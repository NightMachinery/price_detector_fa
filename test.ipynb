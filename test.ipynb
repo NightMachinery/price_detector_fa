{
 "cells": [
  {
   "cell_type": "code",
   "execution_count": 7,
   "id": "f224667c-ccaa-4fbb-b5e6-b08d2c721505",
   "metadata": {},
   "outputs": [
    {
     "name": "stdout",
     "output_type": "stream",
     "text": [
      "The autoreload extension is already loaded. To reload it, use:\n",
      "  %reload_ext autoreload\n"
     ]
    }
   ],
   "source": [
    "%load_ext autoreload\n",
    "%autoreload 2"
   ]
  },
  {
   "cell_type": "markdown",
   "id": "f46b74c2-52de-493c-8fe2-d65dbdf5767c",
   "metadata": {
    "tags": []
   },
   "source": [
    "# Bootstrap"
   ]
  },
  {
   "cell_type": "code",
   "execution_count": 2,
   "id": "f96720ef-61e7-4ed6-b98b-cd321716b98b",
   "metadata": {},
   "outputs": [],
   "source": [
    "cache = dict()\n",
    "DISABLE_CACHE=True"
   ]
  },
  {
   "cell_type": "code",
   "execution_count": 3,
   "id": "82523bad-e361-458b-9950-4c45e6c19946",
   "metadata": {},
   "outputs": [],
   "source": [
    "from price_detector_fa.samples import *\n",
    "from price_detector_fa.utils import *\n",
    "from price_detector_fa.extractors import *\n",
    "from price_detector_fa.preprocessing import *\n",
    "from price_detector_fa.hardcoded import *"
   ]
  },
  {
   "cell_type": "markdown",
   "id": "38023943-0f9e-4e69-811c-da5248b6763a",
   "metadata": {},
   "source": [
    "# Tests"
   ]
  },
  {
   "cell_type": "markdown",
   "id": "0b84f42f-c3c4-488e-aa2f-0d9acb688034",
   "metadata": {},
   "source": [
    "## `preprocess`"
   ]
  },
  {
   "cell_type": "code",
   "execution_count": 4,
   "id": "95b8cde5-3992-457e-a3c7-7f65900cbf7e",
   "metadata": {},
   "outputs": [
    {
     "name": "stdout",
     "output_type": "stream",
     "text": [
      "ولی ما هر کیلو ماکارونی را فقط ۰.۳۵ $ فروخته ایم، در حالی که قیمت هر کیلو گندم بیش ۰.۴$ است.\n"
     ]
    },
    {
     "data": {
      "text/plain": [
       "['ولی',\n",
       " 'ما',\n",
       " 'یک',\n",
       " 'کیلو',\n",
       " 'ماکارونی',\n",
       " 'را',\n",
       " 'فقط',\n",
       " '۰.۳۵',\n",
       " 'دلار',\n",
       " 'فروخته_ایم',\n",
       " '،',\n",
       " 'در',\n",
       " 'حالی',\n",
       " 'که',\n",
       " 'قیمت',\n",
       " 'یک',\n",
       " 'کیلو',\n",
       " 'گندم',\n",
       " '۰.۴',\n",
       " 'دلار',\n",
       " 'است',\n",
       " '.']"
      ]
     },
     "execution_count": 4,
     "metadata": {},
     "output_type": "execute_result"
    }
   ],
   "source": [
    "preprocess(sample_5)"
   ]
  },
  {
   "cell_type": "markdown",
   "id": "52723238-0de2-4ee4-8ed8-be03205a450f",
   "metadata": {},
   "source": [
    "## subject_extract"
   ]
  },
  {
   "cell_type": "code",
   "execution_count": 5,
   "id": "2db379a7-f6aa-426c-b71a-bfe127d52699",
   "metadata": {},
   "outputs": [
    {
     "name": "stdout",
     "output_type": "stream",
     "text": [
      "هندوانه هر کیلو سه هزار تومان به فروش میرسد.\n"
     ]
    },
    {
     "data": {
      "text/plain": [
       "[{'nodes': [{'address': 1,\n",
       "    'word': 'هندوانه',\n",
       "    'lemma': 'هندوانه',\n",
       "    'ctag': 'N',\n",
       "    'tag': 'N',\n",
       "    'feats': '_',\n",
       "    'head': 9,\n",
       "    'deps': defaultdict(list, {'MOZ': [3]}),\n",
       "    'rel': 'SBJ'},\n",
       "   {'address': 2,\n",
       "    'word': 'یک',\n",
       "    'lemma': 'یک',\n",
       "    'ctag': 'NUM',\n",
       "    'tag': 'NUM',\n",
       "    'feats': '_',\n",
       "    'head': 3,\n",
       "    'deps': defaultdict(list, {}),\n",
       "    'rel': 'NPREMOD'},\n",
       "   {'address': 3,\n",
       "    'word': 'کیلو',\n",
       "    'lemma': 'کیلو',\n",
       "    'ctag': 'N',\n",
       "    'tag': 'N',\n",
       "    'feats': '_',\n",
       "    'head': 1,\n",
       "    'deps': defaultdict(list, {'NPREMOD': [2]}),\n",
       "    'rel': 'MOZ'}]}]"
      ]
     },
     "execution_count": 5,
     "metadata": {},
     "output_type": "execute_result"
    }
   ],
   "source": [
    "subject_extract(parser.parse(preprocess(sample_13)))"
   ]
  },
  {
   "cell_type": "markdown",
   "id": "93b8cae0-fb29-4b37-95cb-a0df15fb1fd6",
   "metadata": {},
   "source": [
    "## All Together"
   ]
  },
  {
   "cell_type": "code",
   "execution_count": 14,
   "id": "992ecd0f-4ab1-45a5-8e5a-5c1505817259",
   "metadata": {},
   "outputs": [
    {
     "name": "stdout",
     "output_type": "stream",
     "text": [
      "قیمت هندوانه ارزان شد و قیمت طلا هزار تومان است\n",
      "قیمت هندوانه ارزان شد و قیمت طلا هزار تومان است\n",
      "[قیمت هندوانه NP] [ارزان ADJP] [شد VP] و [قیمت طلا هزار تومان NP] [است VP]\n",
      "['مقدار:  هزار تومان']\n",
      "[]\n",
      "['مقدار:  هندوانه ارزان شد و قیمت طلا', 'مقدار:  طلا']\n",
      "{'product_name': {'nodes': [{'address': 7, 'word': 'طلا', 'lemma': 'طلا', 'ctag': 'N', 'tag': 'N', 'feats': '_', 'head': 6, 'deps': defaultdict(<class 'list'>, {}), 'rel': 'MOZ'}], 'end_token_index': 7}, 'prices': [{'nodes': [{'address': 8, 'word': 'هزار', 'lemma': 'هزار', 'ctag': 'NUM', 'tag': 'NUM', 'feats': '_', 'head': 9, 'deps': defaultdict(<class 'list'>, {}), 'rel': 'NPREMOD'}, {'address': 9, 'word': 'تومان', 'lemma': 'تومان', 'ctag': 'N', 'tag': 'N', 'feats': '_', 'head': 10, 'deps': defaultdict(<class 'list'>, {'NPREMOD': [8]}), 'rel': 'MOS'}]}], 'units': [{'nodes': [{'address': 7, 'word': 'یک', 'lemma': None, 'ctag': None, 'tag': None, 'feats': None, 'head': None, 'deps': defaultdict(<class 'list'>, {}), 'rel': None}]}]}\n",
      "icecream khare\n",
      "{'product_name': ['مقدار:  طلا'], 'units': ['مقدار:  یک'], 'prices': ['مقدار:  هزار تومان']}\n",
      "\n",
      "قیمت هندوانه ارزان شد و قیمت  هر گرم طلا هزار تومان است\n",
      "قیمت هندوانه ارزان شد و قیمت  هر گرم طلا هزار تومان است\n",
      "[قیمت هندوانه NP] [ارزان ADJP] [شد VP] و [قیمت یک گرم طلا هزار تومان NP] [است VP]\n",
      "['مقدار:  هزار تومان']\n",
      "['مقدار:  یک گرم']\n",
      "['مقدار:  هندوانه ارزان شد و قیمت', 'مقدار:  طلا']\n",
      "{'product_name': {'nodes': [{'address': 9, 'word': 'طلا', 'lemma': 'طلا', 'ctag': 'N', 'tag': 'N', 'feats': '_', 'head': 6, 'deps': defaultdict(<class 'list'>, {'MESU': [8]}), 'rel': 'MOZ'}], 'end_token_index': 9}, 'prices': [{'nodes': [{'address': 10, 'word': 'هزار', 'lemma': 'هزار', 'ctag': 'NUM', 'tag': 'NUM', 'feats': '_', 'head': 11, 'deps': defaultdict(<class 'list'>, {}), 'rel': 'NPREMOD'}, {'address': 11, 'word': 'تومان', 'lemma': 'تومان', 'ctag': 'N', 'tag': 'N', 'feats': '_', 'head': 12, 'deps': defaultdict(<class 'list'>, {'NPREMOD': [10]}), 'rel': 'MOS'}]}], 'units': [{'nodes': [{'address': 7, 'word': 'یک', 'lemma': 'یک', 'ctag': 'NUM', 'tag': 'NUM', 'feats': '_', 'head': 8, 'deps': defaultdict(<class 'list'>, {}), 'rel': 'NPREMOD'}, {'address': 8, 'word': 'گرم', 'lemma': 'گرم', 'ctag': 'CL', 'tag': 'CL', 'feats': '_', 'head': 9, 'deps': defaultdict(<class 'list'>, {'NPREMOD': [7]}), 'rel': 'MESU'}]}]}\n",
      "icecream khare\n",
      "{'product_name': ['مقدار:  طلا'], 'units': ['مقدار:  یک گرم'], 'prices': ['مقدار:  هزار تومان']}\n",
      "\n",
      "قیمت هر تن شکر ارزان شد و قیمت طلا هزار تومان است\n",
      "قیمت هر تن شکر ارزان شد و قیمت طلا هزار تومان است\n",
      "[قیمت یک تن شکر NP] [ارزان ADJP] [شد VP] و [قیمت طلا هزار تومان NP] [است VP]\n",
      "['مقدار:  هزار تومان']\n",
      "['مقدار:  یک تن']\n",
      "['مقدار:  طلا', 'مقدار:  شکر ارزان شد و قیمت طلا']\n",
      "{'product_name': {'nodes': [{'address': 4, 'word': 'شکر', 'lemma': 'شکر', 'ctag': 'N', 'tag': 'N', 'feats': '_', 'head': 1, 'deps': defaultdict(<class 'list'>, {'MESU': [3]}), 'rel': 'MOZ'}, {'address': 5, 'word': 'ارزان', 'lemma': 'ارزان', 'ctag': 'AJ', 'tag': 'AJ', 'feats': '_', 'head': 6, 'deps': defaultdict(<class 'list'>, {}), 'rel': 'MOS'}, {'address': 6, 'word': 'شد', 'lemma': 'شد#شو', 'ctag': 'V', 'tag': 'V', 'feats': '_', 'head': 7, 'deps': defaultdict(<class 'list'>, {'SBJ': [1], 'MOS': [5]}), 'rel': 'PREDEP'}, {'address': 7, 'word': 'و', 'lemma': 'و', 'ctag': 'CONJ', 'tag': 'CONJ', 'feats': '_', 'head': 12, 'deps': defaultdict(<class 'list'>, {'PREDEP': [6]}), 'rel': 'VCONJ'}, {'address': 8, 'word': 'قیمت', 'lemma': 'قیمت', 'ctag': 'Ne', 'tag': 'Ne', 'feats': '_', 'head': 12, 'deps': defaultdict(<class 'list'>, {'MOZ': [9]}), 'rel': 'SBJ'}, {'address': 9, 'word': 'طلا', 'lemma': 'طلا', 'ctag': 'N', 'tag': 'N', 'feats': '_', 'head': 8, 'deps': defaultdict(<class 'list'>, {}), 'rel': 'MOZ'}], 'end_token_index': 9}, 'prices': [{'nodes': [{'address': 10, 'word': 'هزار', 'lemma': 'هزار', 'ctag': 'NUM', 'tag': 'NUM', 'feats': '_', 'head': 11, 'deps': defaultdict(<class 'list'>, {}), 'rel': 'NPREMOD'}, {'address': 11, 'word': 'تومان', 'lemma': 'تومان', 'ctag': 'N', 'tag': 'N', 'feats': '_', 'head': 12, 'deps': defaultdict(<class 'list'>, {'NPREMOD': [10]}), 'rel': 'MOS'}]}], 'units': [{'nodes': [{'address': 4, 'word': 'یک', 'lemma': None, 'ctag': None, 'tag': None, 'feats': None, 'head': None, 'deps': defaultdict(<class 'list'>, {}), 'rel': None}]}]}\n",
      "icecream khare\n",
      "{'product_name': ['مقدار:  شکر ارزان شد و قیمت طلا'], 'units': ['مقدار:  یک'], 'prices': ['مقدار:  هزار تومان']}\n",
      "\n",
      "قیمت هر تن شکر ارزان شد و قیمت هر گرم طلا هزار تومان است\n",
      "قیمت هر تن شکر ارزان شد و قیمت هر گرم طلا هزار تومان است\n",
      "[قیمت یک تن شکر NP] [ارزان ADJP] [شد VP] و [قیمت یک گرم طلا هزار تومان NP] [است VP]\n",
      "['مقدار:  هزار تومان']\n",
      "['مقدار:  یک تن', 'مقدار:  یک گرم']\n",
      "['مقدار:  شکر ارزان شد و قیمت', 'مقدار:  طلا']\n",
      "{'product_name': {'nodes': [{'address': 11, 'word': 'طلا', 'lemma': 'طلا', 'ctag': 'N', 'tag': 'N', 'feats': '_', 'head': 8, 'deps': defaultdict(<class 'list'>, {'MESU': [10]}), 'rel': 'MOZ'}], 'end_token_index': 11}, 'prices': [{'nodes': [{'address': 12, 'word': 'هزار', 'lemma': 'هزار', 'ctag': 'NUM', 'tag': 'NUM', 'feats': '_', 'head': 13, 'deps': defaultdict(<class 'list'>, {}), 'rel': 'NPREMOD'}, {'address': 13, 'word': 'تومان', 'lemma': 'تومان', 'ctag': 'N', 'tag': 'N', 'feats': '_', 'head': 14, 'deps': defaultdict(<class 'list'>, {'NPREMOD': [12]}), 'rel': 'MOS'}]}], 'units': [{'nodes': [{'address': 9, 'word': 'یک', 'lemma': 'یک', 'ctag': 'NUM', 'tag': 'NUM', 'feats': '_', 'head': 10, 'deps': defaultdict(<class 'list'>, {}), 'rel': 'NPREMOD'}, {'address': 10, 'word': 'گرم', 'lemma': 'گرم', 'ctag': 'CL', 'tag': 'CL', 'feats': '_', 'head': 11, 'deps': defaultdict(<class 'list'>, {'NPREMOD': [9]}), 'rel': 'MESU'}]}]}\n",
      "icecream khare\n",
      "{'product_name': ['مقدار:  طلا'], 'units': ['مقدار:  یک گرم'], 'prices': ['مقدار:  هزار تومان']}\n",
      "\n"
     ]
    }
   ],
   "source": [
    "from price_detector_fa.samples import *\n",
    "from price_detector_fa.extractors import *\n",
    "\n",
    "\n",
    "for s in (\n",
    "    # sample_1,\n",
    "    # sample_2,\n",
    "    # sample_2_1,\n",
    "    # sample_2_2,\n",
    "    # sample_2_3,\n",
    "    # sample_2_4,\n",
    "    # sample_2_5,\n",
    "    # sample_2_6,\n",
    "    # sample_2_7,\n",
    "    # sample_2_8,\n",
    "    # sample_2_9,\n",
    "    # sample_2_9_2,\n",
    "    # sample_3,\n",
    "    # sample_4,\n",
    "    # sample_5,\n",
    "    # sample_6,\n",
    "    # sample_7,\n",
    "    # sample_8,\n",
    "    # sample_8_2,\n",
    "    # sample_8_3,\n",
    "    # sample_13,\n",
    "    # sample_14,\n",
    "    sample_16_1,\n",
    "    sample_16_2,\n",
    "    sample_16_3,\n",
    "    sample_16_4,    \n",
    "    # sample_16,\n",
    "    # *samples_evil,\n",
    "    # *samples,\n",
    "):\n",
    "    print(s)\n",
    "    if DISABLE_CACHE or (True or s not in cache):\n",
    "        #: @todo6/Hoseini fix the return types\n",
    "        s_tokens = preprocess(s)\n",
    "\n",
    "        s_parsed = parser.parse(s_tokens)\n",
    "        s_tagged = tagger.tag(s_tokens)\n",
    "        s_chunks = tree2brackets(chunker.parse(s_tagged))\n",
    "        cache[s] = dict(\n",
    "            s_tokens=s_tokens,\n",
    "            s_parsed=s_parsed,\n",
    "            s_tagged=s_tagged,\n",
    "            s_chunks=s_chunks,\n",
    "        )\n",
    "    s_cached = cache[s]\n",
    "    s_tokens = s_cached[\"s_tokens\"]\n",
    "    s_parsed = s_cached[\"s_parsed\"]\n",
    "    s_tagged = s_cached[\"s_tagged\"]\n",
    "    s_chunks = s_cached[\"s_chunks\"]\n",
    "    print(s_chunks)\n",
    "\n",
    "    # display(s_parsed)\n",
    "    all_extract(s_parsed)\n",
    "    print()"
   ]
  },
  {
   "cell_type": "code",
   "execution_count": null,
   "id": "f022095a-253d-4460-9dc9-793e5d268bf5",
   "metadata": {},
   "outputs": [],
   "source": []
  }
 ],
 "metadata": {
  "kernelspec": {
   "display_name": "Python 3 (ipykernel)",
   "language": "python",
   "name": "python3"
  },
  "language_info": {
   "codemirror_mode": {
    "name": "ipython",
    "version": 3
   },
   "file_extension": ".py",
   "mimetype": "text/x-python",
   "name": "python",
   "nbconvert_exporter": "python",
   "pygments_lexer": "ipython3",
   "version": "3.9.13"
  }
 },
 "nbformat": 4,
 "nbformat_minor": 5
}
