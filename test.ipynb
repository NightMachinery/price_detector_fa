{
 "cells": [
  {
   "cell_type": "code",
   "execution_count": 1,
   "id": "f224667c-ccaa-4fbb-b5e6-b08d2c721505",
   "metadata": {},
   "outputs": [],
   "source": [
    "%load_ext autoreload\n",
    "%autoreload 2"
   ]
  },
  {
   "cell_type": "markdown",
   "id": "f46b74c2-52de-493c-8fe2-d65dbdf5767c",
   "metadata": {
    "tags": []
   },
   "source": [
    "# Bootstrap"
   ]
  },
  {
   "cell_type": "code",
   "execution_count": 2,
   "id": "f96720ef-61e7-4ed6-b98b-cd321716b98b",
   "metadata": {},
   "outputs": [],
   "source": [
    "cache = dict()\n",
    "DISABLE_CACHE=True"
   ]
  },
  {
   "cell_type": "code",
   "execution_count": 3,
   "id": "82523bad-e361-458b-9950-4c45e6c19946",
   "metadata": {},
   "outputs": [],
   "source": [
    "from price_detector_fa.samples import *\n",
    "from price_detector_fa.utils import *\n",
    "from price_detector_fa.extractors import *\n",
    "from price_detector_fa.preprocessing import *\n",
    "from price_detector_fa.hardcoded import *"
   ]
  },
  {
   "cell_type": "markdown",
   "id": "38023943-0f9e-4e69-811c-da5248b6763a",
   "metadata": {},
   "source": [
    "# Tests"
   ]
  },
  {
   "cell_type": "markdown",
   "id": "0b84f42f-c3c4-488e-aa2f-0d9acb688034",
   "metadata": {},
   "source": [
    "## `preprocess`"
   ]
  },
  {
   "cell_type": "code",
   "execution_count": 4,
   "id": "95b8cde5-3992-457e-a3c7-7f65900cbf7e",
   "metadata": {},
   "outputs": [
    {
     "name": "stdout",
     "output_type": "stream",
     "text": [
      "ولی ما هر کیلو ماکارونی را فقط ۰.۳۵ $ فروخته ایم، در حالی که قیمت هر کیلو گندم بیش ۰.۴$ است.\n"
     ]
    },
    {
     "data": {
      "text/plain": [
       "['ولی',\n",
       " 'ما',\n",
       " 'یک',\n",
       " 'کیلو',\n",
       " 'ماکارونی',\n",
       " 'را',\n",
       " 'فقط',\n",
       " '۰.۳۵',\n",
       " 'دلار',\n",
       " 'فروخته_ایم',\n",
       " '،',\n",
       " 'در',\n",
       " 'حالی',\n",
       " 'که',\n",
       " 'قیمت',\n",
       " 'یک',\n",
       " 'کیلو',\n",
       " 'گندم',\n",
       " '۰.۴',\n",
       " 'دلار',\n",
       " 'است',\n",
       " '.']"
      ]
     },
     "execution_count": 4,
     "metadata": {},
     "output_type": "execute_result"
    }
   ],
   "source": [
    "preprocess(sample_5)"
   ]
  },
  {
   "cell_type": "markdown",
   "id": "52723238-0de2-4ee4-8ed8-be03205a450f",
   "metadata": {},
   "source": [
    "## subject_extract"
   ]
  },
  {
   "cell_type": "code",
   "execution_count": 5,
   "id": "2db379a7-f6aa-426c-b71a-bfe127d52699",
   "metadata": {},
   "outputs": [
    {
     "name": "stdout",
     "output_type": "stream",
     "text": [
      "هندوانه هر کیلو سه هزار تومان به فروش میرسد.\n"
     ]
    },
    {
     "data": {
      "text/plain": [
       "[{'nodes': [{'address': 1,\n",
       "    'word': 'هندوانه',\n",
       "    'lemma': 'هندوانه',\n",
       "    'ctag': 'N',\n",
       "    'tag': 'N',\n",
       "    'feats': '_',\n",
       "    'head': 9,\n",
       "    'deps': defaultdict(list, {'MOZ': [3]}),\n",
       "    'rel': 'SBJ'},\n",
       "   {'address': 2,\n",
       "    'word': 'یک',\n",
       "    'lemma': 'یک',\n",
       "    'ctag': 'NUM',\n",
       "    'tag': 'NUM',\n",
       "    'feats': '_',\n",
       "    'head': 3,\n",
       "    'deps': defaultdict(list, {}),\n",
       "    'rel': 'NPREMOD'},\n",
       "   {'address': 3,\n",
       "    'word': 'کیلو',\n",
       "    'lemma': 'کیلو',\n",
       "    'ctag': 'N',\n",
       "    'tag': 'N',\n",
       "    'feats': '_',\n",
       "    'head': 1,\n",
       "    'deps': defaultdict(list, {'NPREMOD': [2]}),\n",
       "    'rel': 'MOZ'}]}]"
      ]
     },
     "execution_count": 5,
     "metadata": {},
     "output_type": "execute_result"
    }
   ],
   "source": [
    "subject_extract(parser.parse(preprocess(sample_13)))"
   ]
  },
  {
   "cell_type": "markdown",
   "id": "93b8cae0-fb29-4b37-95cb-a0df15fb1fd6",
   "metadata": {},
   "source": [
    "## All Together"
   ]
  },
  {
   "cell_type": "code",
   "execution_count": 18,
   "id": "992ecd0f-4ab1-45a5-8e5a-5c1505817259",
   "metadata": {},
   "outputs": [
    {
     "name": "stdout",
     "output_type": "stream",
     "text": [
      "یک کیلو و دویست گرم گندم هزار تومان است.\n",
      "یک کیلو و دویست گرم گندم هزار تومان است.\n",
      "[یک کیلو و دویست گرم گندم هزار تومان NP] [است VP] .\n",
      "['مقدار:  هزار تومان']\n",
      "['مقدار:  یک کیلو و دویست گرم گندم']\n",
      "[]\n",
      "\n",
      "icecream is bad!\n",
      "\n",
      "سه هندوانه صدهزار تومان میباشد.\n",
      "سه هندوانه صدهزار تومان میباشد.\n",
      "[سه هندوانه صدهزار تومان NP] [میباشد VP] .\n",
      "['مقدار:  صدهزار تومان']\n",
      "[]\n",
      "['مقدار:  سه هندوانه']\n",
      "\n",
      "{'product_name': ['مقدار:  هندوانه'], 'units': ['مقدار:  سه'], 'prices': ['مقدار:  صدهزار تومان']}\n",
      "icecream is bad!\n",
      "\n",
      "قیمت هندوانه ارزان شد و قیمت طلا هزار تومان است\n",
      "قیمت هندوانه ارزان شد و قیمت طلا هزار تومان است\n",
      "[قیمت هندوانه NP] [ارزان ADJP] [شد VP] و [قیمت طلا هزار تومان NP] [است VP]\n",
      "['مقدار:  هزار تومان']\n",
      "[]\n",
      "['مقدار:  هندوانه ارزان شد و قیمت طلا', 'مقدار:  طلا']\n",
      "\n",
      "{'product_name': ['مقدار:  طلا'], 'units': ['مقدار:  یک'], 'prices': ['مقدار:  هزار تومان']}\n",
      "icecream is bad!\n",
      "\n",
      "قیمت هندوانه ارزان شد و قیمت  هر گرم طلا هزار تومان است\n",
      "قیمت هندوانه ارزان شد و قیمت  هر گرم طلا هزار تومان است\n",
      "[قیمت هندوانه NP] [ارزان ADJP] [شد VP] و [قیمت یک گرم طلا هزار تومان NP] [است VP]\n",
      "['مقدار:  هزار تومان']\n",
      "['مقدار:  یک گرم']\n",
      "['مقدار:  هندوانه ارزان شد و قیمت', 'مقدار:  طلا']\n",
      "\n",
      "{'product_name': ['مقدار:  طلا'], 'units': ['مقدار:  یک گرم'], 'prices': ['مقدار:  هزار تومان']}\n",
      "icecream is bad!\n",
      "\n",
      "قیمت هر تن شکر ارزان شد و قیمت طلا هزار تومان است\n",
      "قیمت هر تن شکر ارزان شد و قیمت طلا هزار تومان است\n",
      "[قیمت یک تن شکر NP] [ارزان ADJP] [شد VP] و [قیمت طلا هزار تومان NP] [است VP]\n",
      "['مقدار:  هزار تومان']\n",
      "['مقدار:  یک تن']\n",
      "['مقدار:  طلا', 'مقدار:  شکر ارزان شد و قیمت طلا']\n",
      "\n",
      "{'product_name': ['مقدار:  طلا'], 'units': ['مقدار:  یک'], 'prices': ['مقدار:  هزار تومان']}\n",
      "icecream is bad!\n",
      "\n",
      "قیمت هر تن شکر ارزان شد و قیمت هر گرم طلا هزار تومان است\n",
      "قیمت هر تن شکر ارزان شد و قیمت هر گرم طلا هزار تومان است\n",
      "[قیمت یک تن شکر NP] [ارزان ADJP] [شد VP] و [قیمت یک گرم طلا هزار تومان NP] [است VP]\n",
      "['مقدار:  هزار تومان']\n",
      "['مقدار:  یک تن', 'مقدار:  یک گرم']\n",
      "['مقدار:  شکر ارزان شد و قیمت', 'مقدار:  طلا']\n",
      "\n",
      "{'product_name': ['مقدار:  طلا'], 'units': ['مقدار:  یک گرم'], 'prices': ['مقدار:  هزار تومان']}\n",
      "icecream is bad!\n",
      "\n",
      "همزمان با خرید و فروش دلار و یورو آزاد در کانال ۳۶ هزار تومان، بانک مرکزی در قدم اول سراغ راه‌اندازی سامانه برخط بازار متشکل ارزی و ثبت‌نام اینترنتی ارز مسافرتی رفت و در مرحله بعدی شرایط جدیدی برای دریافت ارز مسافرتی اعلام کرده است.\n",
      "همزمان با خرید و فروش دلار و یورو آزاد در کانال ۳۶ هزار تومان، بانک مرکزی در قدم اول سراغ راه‌اندازی سامانه برخط بازار متشکل ارزی و ثبت‌نام اینترنتی ارز مسافرتی رفت و در مرحله بعدی شرایط جدیدی برای دریافت ارز مسافرتی اعلام کرده است.\n",
      "[همزمان ADJP] [با PP] [خرید و فروش دلار و یورو آزاد NP] [در PP] [کانال ۳۶ هزار تومان NP] ، [بانک مرکزی NP] [در PP] [قدم اول سراغ راه‌اندازی سامانه برخط NP] [بازار متشکل ارزی و ثبت‌نام اینترنتی ارز مسافرتی NP] [رفت VP] و [در PP] [مرحله بعدی NP] [شرایط جدیدی NP] [برای PP] [دریافت ارز مسافرتی NP] [اعلام کرده_است VP] .\n",
      "['مقدار:  ۳۶ هزار تومان']\n",
      "[]\n",
      "['مقدار:  شرایط جدیدی']\n",
      "\n",
      "{'product_name': ['مقدار:  شرایط جدیدی'], 'units': ['مقدار:  یک'], 'prices': ['مقدار:  ۳۶ هزار تومان']}\n",
      "icecream is bad!\n",
      "\n"
     ]
    }
   ],
   "source": [
    "from price_detector_fa.samples import *\n",
    "from price_detector_fa.extractors import *\n",
    "\n",
    "\n",
    "for s in (\n",
    "    # sample_1,\n",
    "    # sample_2,\n",
    "    # sample_2_1,\n",
    "    # sample_2_2,\n",
    "    # sample_2_3,\n",
    "    # sample_2_4,\n",
    "    # sample_2_5,\n",
    "    # sample_2_6,\n",
    "    # sample_2_7,\n",
    "    # sample_2_8,\n",
    "    # sample_2_9,\n",
    "    # sample_2_9_2,\n",
    "    # sample_3,\n",
    "    # sample_4,\n",
    "    # sample_5,\n",
    "    # sample_6,\n",
    "    sample_7,\n",
    "    sample_8,\n",
    "    # sample_8_2,\n",
    "    # sample_8_3,\n",
    "    # sample_13,\n",
    "    # sample_14,\n",
    "    sample_16_1,\n",
    "    sample_16_2,\n",
    "    sample_16_3,\n",
    "    sample_16_4,    \n",
    "    *samples_evil,\n",
    "    *samples,\n",
    "):\n",
    "    print(s)\n",
    "    if DISABLE_CACHE or (True or s not in cache):\n",
    "        #: @todo6/Hoseini fix the return types\n",
    "        s_tokens = preprocess(s)\n",
    "\n",
    "        s_parsed = parser.parse(s_tokens)\n",
    "        s_tagged = tagger.tag(s_tokens)\n",
    "        s_chunks = tree2brackets(chunker.parse(s_tagged))\n",
    "        cache[s] = dict(\n",
    "            s_tokens=s_tokens,\n",
    "            s_parsed=s_parsed,\n",
    "            s_tagged=s_tagged,\n",
    "            s_chunks=s_chunks,\n",
    "        )\n",
    "    s_cached = cache[s]\n",
    "    s_tokens = s_cached[\"s_tokens\"]\n",
    "    s_parsed = s_cached[\"s_parsed\"]\n",
    "    s_tagged = s_cached[\"s_tagged\"]\n",
    "    s_chunks = s_cached[\"s_chunks\"]\n",
    "    print(s_chunks)\n",
    "\n",
    "    # display(s_parsed)\n",
    "    all_extract(s_parsed)\n",
    "    print()"
   ]
  }
 ],
 "metadata": {
  "kernelspec": {
   "display_name": "Python 3 (ipykernel)",
   "language": "python",
   "name": "python3"
  },
  "language_info": {
   "codemirror_mode": {
    "name": "ipython",
    "version": 3
   },
   "file_extension": ".py",
   "mimetype": "text/x-python",
   "name": "python",
   "nbconvert_exporter": "python",
   "pygments_lexer": "ipython3",
   "version": "3.9.13"
  }
 },
 "nbformat": 4,
 "nbformat_minor": 5
}
