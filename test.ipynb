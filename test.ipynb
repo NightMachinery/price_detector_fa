{
 "cells": [
  {
   "cell_type": "code",
   "execution_count": 1,
   "id": "f224667c-ccaa-4fbb-b5e6-b08d2c721505",
   "metadata": {},
   "outputs": [],
   "source": [
    "%load_ext autoreload\n",
    "%autoreload 2"
   ]
  },
  {
   "cell_type": "markdown",
   "id": "f46b74c2-52de-493c-8fe2-d65dbdf5767c",
   "metadata": {
    "tags": []
   },
   "source": [
    "# Bootstrap"
   ]
  },
  {
   "cell_type": "code",
   "execution_count": 2,
   "id": "f96720ef-61e7-4ed6-b98b-cd321716b98b",
   "metadata": {},
   "outputs": [],
   "source": [
    "cache = dict()"
   ]
  },
  {
   "cell_type": "code",
   "execution_count": 3,
   "id": "82523bad-e361-458b-9950-4c45e6c19946",
   "metadata": {},
   "outputs": [],
   "source": [
    "from price_detector_fa.samples import *\n",
    "from price_detector_fa.utils import *\n",
    "from price_detector_fa.extractors import *\n",
    "from price_detector_fa.preprocessing import *\n",
    "from price_detector_fa.hardcoded import *"
   ]
  },
  {
   "cell_type": "markdown",
   "id": "38023943-0f9e-4e69-811c-da5248b6763a",
   "metadata": {},
   "source": [
    "# Tests"
   ]
  },
  {
   "cell_type": "markdown",
   "id": "0b84f42f-c3c4-488e-aa2f-0d9acb688034",
   "metadata": {},
   "source": [
    "## `preprocess`"
   ]
  },
  {
   "cell_type": "code",
   "execution_count": 4,
   "id": "95b8cde5-3992-457e-a3c7-7f65900cbf7e",
   "metadata": {},
   "outputs": [
    {
     "name": "stdout",
     "output_type": "stream",
     "text": [
      "\u001b[38;5;247mic\u001b[39m\u001b[38;5;245m|\u001b[39m\u001b[38;5;245m \u001b[39m\u001b[38;5;247mtext\u001b[39m\u001b[38;5;245m:\u001b[39m\u001b[38;5;245m \u001b[39m\u001b[38;5;245m(\u001b[39m\u001b[38;5;36m'\u001b[39m\u001b[38;5;36mولی ما هر کیلو ماکارونی را فقط ۰.۳۵ $ فروخته ایم، در حالی که قیمت هر کیلو \u001b[39m\u001b[38;5;36m'\u001b[39m\n",
      "\u001b[38;5;245m           \u001b[39m\u001b[38;5;36m'\u001b[39m\u001b[38;5;36mگندم بیش ۰.۴$ است.\u001b[39m\u001b[38;5;36m'\u001b[39m\u001b[38;5;245m)\u001b[39m\n"
     ]
    },
    {
     "data": {
      "text/plain": [
       "['ولی',\n",
       " 'ما',\n",
       " 'یک',\n",
       " 'کیلو',\n",
       " 'ماکارونی',\n",
       " 'را',\n",
       " 'فقط',\n",
       " '۰.۳۵',\n",
       " 'دلار',\n",
       " 'فروخته_ایم',\n",
       " '،',\n",
       " 'در',\n",
       " 'حالی',\n",
       " 'که',\n",
       " 'قیمت',\n",
       " 'یک',\n",
       " 'کیلو',\n",
       " 'گندم',\n",
       " '۰.۴',\n",
       " 'دلار',\n",
       " 'است',\n",
       " '.']"
      ]
     },
     "execution_count": 4,
     "metadata": {},
     "output_type": "execute_result"
    }
   ],
   "source": [
    "preprocess(sample_5)"
   ]
  },
  {
   "cell_type": "markdown",
   "id": "52723238-0de2-4ee4-8ed8-be03205a450f",
   "metadata": {},
   "source": [
    "## subject_extract"
   ]
  },
  {
   "cell_type": "code",
   "execution_count": 5,
   "id": "2db379a7-f6aa-426c-b71a-bfe127d52699",
   "metadata": {},
   "outputs": [
    {
     "name": "stdout",
     "output_type": "stream",
     "text": [
      "\u001b[38;5;247mic\u001b[39m\u001b[38;5;245m|\u001b[39m\u001b[38;5;245m \u001b[39m\u001b[38;5;247mtext\u001b[39m\u001b[38;5;245m:\u001b[39m\u001b[38;5;245m \u001b[39m\u001b[38;5;36m'\u001b[39m\u001b[38;5;36mهندوانه هر کیلو سه هزار تومان به فروش میرسد.\u001b[39m\u001b[38;5;36m'\u001b[39m\n"
     ]
    },
    {
     "data": {
      "text/plain": [
       "[{'nodes': [{'address': 1,\n",
       "    'word': 'هندوانه',\n",
       "    'lemma': 'هندوانه',\n",
       "    'ctag': 'N',\n",
       "    'tag': 'N',\n",
       "    'feats': '_',\n",
       "    'head': 9,\n",
       "    'deps': defaultdict(list, {'MOZ': [3]}),\n",
       "    'rel': 'SBJ'},\n",
       "   {'address': 2,\n",
       "    'word': 'یک',\n",
       "    'lemma': 'یک',\n",
       "    'ctag': 'NUM',\n",
       "    'tag': 'NUM',\n",
       "    'feats': '_',\n",
       "    'head': 3,\n",
       "    'deps': defaultdict(list, {}),\n",
       "    'rel': 'NPREMOD'},\n",
       "   {'address': 3,\n",
       "    'word': 'کیلو',\n",
       "    'lemma': 'کیلو',\n",
       "    'ctag': 'N',\n",
       "    'tag': 'N',\n",
       "    'feats': '_',\n",
       "    'head': 1,\n",
       "    'deps': defaultdict(list, {'NPREMOD': [2]}),\n",
       "    'rel': 'MOZ'}]}]"
      ]
     },
     "execution_count": 5,
     "metadata": {},
     "output_type": "execute_result"
    }
   ],
   "source": [
    "subject_extract(parser.parse(preprocess(sample_13)))"
   ]
  },
  {
   "cell_type": "markdown",
   "id": "93b8cae0-fb29-4b37-95cb-a0df15fb1fd6",
   "metadata": {},
   "source": [
    "## All Together"
   ]
  },
  {
   "cell_type": "code",
   "execution_count": 9,
   "id": "992ecd0f-4ab1-45a5-8e5a-5c1505817259",
   "metadata": {},
   "outputs": [
    {
     "name": "stdout",
     "output_type": "stream",
     "text": [
      "ده عدد ماشین یک میلیون تومان و قیمت هر خر یک قران است.\n",
      "\u001b[38;5;247mic\u001b[39m\u001b[38;5;245m|\u001b[39m\u001b[38;5;245m \u001b[39m\u001b[38;5;247mtext\u001b[39m\u001b[38;5;245m:\u001b[39m\u001b[38;5;245m \u001b[39m\u001b[38;5;36m'\u001b[39m\u001b[38;5;36mده عدد ماشین یک میلیون تومان و قیمت هر خر یک قران است.\u001b[39m\u001b[38;5;36m'\u001b[39m\n",
      "\u001b[38;5;247mic\u001b[39m\u001b[38;5;245m|\u001b[39m\u001b[38;5;245m \u001b[39m\u001b[38;5;247ms_chunks\u001b[39m\u001b[38;5;245m:\u001b[39m\u001b[38;5;245m \u001b[39m\u001b[38;5;36m'\u001b[39m\u001b[38;5;36m[ده عدد ماشین NP] [یک میلیون تومان NP] و [قیمت یک خر یک قران NP] [است VP] .\u001b[39m\u001b[38;5;36m'\u001b[39m\n"
     ]
    },
    {
     "data": {
      "image/svg+xml": [
       "<?xml version=\"1.0\" encoding=\"UTF-8\" standalone=\"no\"?>\n",
       "<!DOCTYPE svg PUBLIC \"-//W3C//DTD SVG 1.1//EN\"\n",
       " \"http://www.w3.org/Graphics/SVG/1.1/DTD/svg11.dtd\">\n",
       "<!-- Generated by graphviz version 7.0.2 (20221119.0110)\n",
       " -->\n",
       "<!-- Title: G Pages: 1 -->\n",
       "<svg width=\"444pt\" height=\"392pt\"\n",
       " viewBox=\"0.00 0.00 444.00 392.00\" xmlns=\"http://www.w3.org/2000/svg\" xmlns:xlink=\"http://www.w3.org/1999/xlink\">\n",
       "<g id=\"graph0\" class=\"graph\" transform=\"scale(1 1) rotate(0) translate(4 388)\">\n",
       "<title>G</title>\n",
       "<polygon fill=\"white\" stroke=\"none\" points=\"-4,4 -4,-388 440,-388 440,4 -4,4\"/>\n",
       "<!-- 0 -->\n",
       "<g id=\"node1\" class=\"node\">\n",
       "<title>0</title>\n",
       "<text text-anchor=\"middle\" x=\"248\" y=\"-362.3\" font-family=\"Times,serif\" font-size=\"14.00\">0 (None)</text>\n",
       "</g>\n",
       "<!-- 13 -->\n",
       "<g id=\"node2\" class=\"node\">\n",
       "<title>13</title>\n",
       "<text text-anchor=\"middle\" x=\"248\" y=\"-275.3\" font-family=\"Times,serif\" font-size=\"14.00\">13 (است)</text>\n",
       "</g>\n",
       "<!-- 0&#45;&gt;13 -->\n",
       "<g id=\"edge1\" class=\"edge\">\n",
       "<title>0&#45;&gt;13</title>\n",
       "<path fill=\"none\" stroke=\"black\" d=\"M248,-348.21C248,-336.8 248,-321.43 248,-308.17\"/>\n",
       "<polygon fill=\"black\" stroke=\"black\" points=\"251.5,-308.27 248,-298.27 244.5,-308.27 251.5,-308.27\"/>\n",
       "<text text-anchor=\"middle\" x=\"266.5\" y=\"-318.8\" font-family=\"Times,serif\" font-size=\"14.00\">ROOT</text>\n",
       "</g>\n",
       "<!-- 3 -->\n",
       "<g id=\"node5\" class=\"node\">\n",
       "<title>3</title>\n",
       "<text text-anchor=\"middle\" x=\"88\" y=\"-188.3\" font-family=\"Times,serif\" font-size=\"14.00\">3 (ماشین)</text>\n",
       "</g>\n",
       "<!-- 13&#45;&gt;3 -->\n",
       "<g id=\"edge11\" class=\"edge\">\n",
       "<title>13&#45;&gt;3</title>\n",
       "<path fill=\"none\" stroke=\"black\" d=\"M216.77,-261.41C191.85,-248.17 156.73,-229.51 129.45,-215.02\"/>\n",
       "<polygon fill=\"black\" stroke=\"black\" points=\"131.23,-212 120.76,-210.4 127.95,-218.19 131.23,-212\"/>\n",
       "<text text-anchor=\"middle\" x=\"193.5\" y=\"-231.8\" font-family=\"Times,serif\" font-size=\"14.00\">MOS</text>\n",
       "</g>\n",
       "<!-- 6 -->\n",
       "<g id=\"node8\" class=\"node\">\n",
       "<title>6</title>\n",
       "<text text-anchor=\"middle\" x=\"201\" y=\"-188.3\" font-family=\"Times,serif\" font-size=\"14.00\">6 (تومان)</text>\n",
       "</g>\n",
       "<!-- 13&#45;&gt;6 -->\n",
       "<g id=\"edge13\" class=\"edge\">\n",
       "<title>13&#45;&gt;6</title>\n",
       "<path fill=\"none\" stroke=\"black\" d=\"M238.71,-261.21C232.15,-249.33 223.21,-233.17 215.68,-219.56\"/>\n",
       "<polygon fill=\"black\" stroke=\"black\" points=\"218.9,-218.14 211,-211.08 212.77,-221.53 218.9,-218.14\"/>\n",
       "<text text-anchor=\"middle\" x=\"239\" y=\"-231.8\" font-family=\"Times,serif\" font-size=\"14.00\">SBJ</text>\n",
       "</g>\n",
       "<!-- 10 -->\n",
       "<g id=\"node12\" class=\"node\">\n",
       "<title>10</title>\n",
       "<text text-anchor=\"middle\" x=\"279\" y=\"-188.3\" font-family=\"Times,serif\" font-size=\"14.00\">10 (خر)</text>\n",
       "</g>\n",
       "<!-- 13&#45;&gt;10 -->\n",
       "<g id=\"edge12\" class=\"edge\">\n",
       "<title>13&#45;&gt;10</title>\n",
       "<path fill=\"none\" stroke=\"black\" d=\"M254.12,-261.21C258.37,-249.56 264.12,-233.8 269.02,-220.36\"/>\n",
       "<polygon fill=\"black\" stroke=\"black\" points=\"272.23,-221.77 272.37,-211.18 265.66,-219.38 272.23,-221.77\"/>\n",
       "<text text-anchor=\"middle\" x=\"281.5\" y=\"-231.8\" font-family=\"Times,serif\" font-size=\"14.00\">MOS</text>\n",
       "</g>\n",
       "<!-- 14 -->\n",
       "<g id=\"node15\" class=\"node\">\n",
       "<title>14</title>\n",
       "<text text-anchor=\"middle\" x=\"353\" y=\"-188.3\" font-family=\"Times,serif\" font-size=\"14.00\">14 (.)</text>\n",
       "</g>\n",
       "<!-- 13&#45;&gt;14 -->\n",
       "<g id=\"edge14\" class=\"edge\">\n",
       "<title>13&#45;&gt;14</title>\n",
       "<path fill=\"none\" stroke=\"black\" d=\"M275.63,-261.11C284.01,-255.64 293.08,-249.34 301,-243 310.68,-235.25 320.65,-226.02 329.24,-217.61\"/>\n",
       "<polygon fill=\"black\" stroke=\"black\" points=\"331.63,-220.17 336.23,-210.63 326.68,-215.22 331.63,-220.17\"/>\n",
       "<text text-anchor=\"middle\" x=\"336.5\" y=\"-231.8\" font-family=\"Times,serif\" font-size=\"14.00\">PUNC</text>\n",
       "</g>\n",
       "<!-- 1 -->\n",
       "<g id=\"node3\" class=\"node\">\n",
       "<title>1</title>\n",
       "<text text-anchor=\"middle\" x=\"27\" y=\"-14.3\" font-family=\"Times,serif\" font-size=\"14.00\">1 (ده)</text>\n",
       "</g>\n",
       "<!-- 2 -->\n",
       "<g id=\"node4\" class=\"node\">\n",
       "<title>2</title>\n",
       "<text text-anchor=\"middle\" x=\"33\" y=\"-101.3\" font-family=\"Times,serif\" font-size=\"14.00\">2 (عدد)</text>\n",
       "</g>\n",
       "<!-- 2&#45;&gt;1 -->\n",
       "<g id=\"edge2\" class=\"edge\">\n",
       "<title>2&#45;&gt;1</title>\n",
       "<path fill=\"none\" stroke=\"black\" d=\"M31.81,-87.21C31.01,-75.8 29.92,-60.43 28.99,-47.17\"/>\n",
       "<polygon fill=\"black\" stroke=\"black\" points=\"32.49,-47 28.29,-37.27 25.5,-47.49 32.49,-47\"/>\n",
       "<text text-anchor=\"middle\" x=\"64.5\" y=\"-57.8\" font-family=\"Times,serif\" font-size=\"14.00\">NPREMOD</text>\n",
       "</g>\n",
       "<!-- 3&#45;&gt;2 -->\n",
       "<g id=\"edge3\" class=\"edge\">\n",
       "<title>3&#45;&gt;2</title>\n",
       "<path fill=\"none\" stroke=\"black\" d=\"M70.58,-174.08C65.5,-168.61 60.19,-162.31 56,-156 51.39,-149.05 47.24,-141.02 43.79,-133.46\"/>\n",
       "<polygon fill=\"black\" stroke=\"black\" points=\"47.01,-132.08 39.84,-124.28 40.58,-134.85 47.01,-132.08\"/>\n",
       "<text text-anchor=\"middle\" x=\"75.5\" y=\"-144.8\" font-family=\"Times,serif\" font-size=\"14.00\">MESU</text>\n",
       "</g>\n",
       "<!-- 4 -->\n",
       "<g id=\"node6\" class=\"node\">\n",
       "<title>4</title>\n",
       "<text text-anchor=\"middle\" x=\"117\" y=\"-14.3\" font-family=\"Times,serif\" font-size=\"14.00\">4 (یک)</text>\n",
       "</g>\n",
       "<!-- 5 -->\n",
       "<g id=\"node7\" class=\"node\">\n",
       "<title>5</title>\n",
       "<text text-anchor=\"middle\" x=\"117\" y=\"-101.3\" font-family=\"Times,serif\" font-size=\"14.00\">5 (میلیون)</text>\n",
       "</g>\n",
       "<!-- 5&#45;&gt;4 -->\n",
       "<g id=\"edge4\" class=\"edge\">\n",
       "<title>5&#45;&gt;4</title>\n",
       "<path fill=\"none\" stroke=\"black\" d=\"M117,-87.21C117,-75.8 117,-60.43 117,-47.17\"/>\n",
       "<polygon fill=\"black\" stroke=\"black\" points=\"120.5,-47.27 117,-37.27 113.5,-47.27 120.5,-47.27\"/>\n",
       "<text text-anchor=\"middle\" x=\"150.5\" y=\"-57.8\" font-family=\"Times,serif\" font-size=\"14.00\">NPREMOD</text>\n",
       "</g>\n",
       "<!-- 6&#45;&gt;5 -->\n",
       "<g id=\"edge5\" class=\"edge\">\n",
       "<title>6&#45;&gt;5</title>\n",
       "<path fill=\"none\" stroke=\"black\" d=\"M170.13,-181.16C157.08,-175.61 142.7,-167.45 133,-156 127.7,-149.74 124.15,-141.7 121.77,-133.9\"/>\n",
       "<polygon fill=\"black\" stroke=\"black\" points=\"125.21,-133.24 119.42,-124.36 118.41,-134.91 125.21,-133.24\"/>\n",
       "<text text-anchor=\"middle\" x=\"166.5\" y=\"-144.8\" font-family=\"Times,serif\" font-size=\"14.00\">NPREMOD</text>\n",
       "</g>\n",
       "<!-- 7 -->\n",
       "<g id=\"node9\" class=\"node\">\n",
       "<title>7</title>\n",
       "<text text-anchor=\"middle\" x=\"207\" y=\"-101.3\" font-family=\"Times,serif\" font-size=\"14.00\">7 (و)</text>\n",
       "</g>\n",
       "<!-- 6&#45;&gt;7 -->\n",
       "<g id=\"edge6\" class=\"edge\">\n",
       "<title>6&#45;&gt;7</title>\n",
       "<path fill=\"none\" stroke=\"black\" d=\"M202.19,-174.21C202.99,-162.8 204.08,-147.43 205.01,-134.17\"/>\n",
       "<polygon fill=\"black\" stroke=\"black\" points=\"208.5,-134.49 205.71,-124.27 201.51,-134 208.5,-134.49\"/>\n",
       "<text text-anchor=\"middle\" x=\"227\" y=\"-144.8\" font-family=\"Times,serif\" font-size=\"14.00\">NCONJ</text>\n",
       "</g>\n",
       "<!-- 8 -->\n",
       "<g id=\"node10\" class=\"node\">\n",
       "<title>8</title>\n",
       "<text text-anchor=\"middle\" x=\"207\" y=\"-14.3\" font-family=\"Times,serif\" font-size=\"14.00\">8 (قیمت)</text>\n",
       "</g>\n",
       "<!-- 7&#45;&gt;8 -->\n",
       "<g id=\"edge7\" class=\"edge\">\n",
       "<title>7&#45;&gt;8</title>\n",
       "<path fill=\"none\" stroke=\"black\" d=\"M207,-87.21C207,-75.8 207,-60.43 207,-47.17\"/>\n",
       "<polygon fill=\"black\" stroke=\"black\" points=\"210.5,-47.27 207,-37.27 203.5,-47.27 210.5,-47.27\"/>\n",
       "<text text-anchor=\"middle\" x=\"232.5\" y=\"-57.8\" font-family=\"Times,serif\" font-size=\"14.00\">POSDEP</text>\n",
       "</g>\n",
       "<!-- 9 -->\n",
       "<g id=\"node11\" class=\"node\">\n",
       "<title>9</title>\n",
       "<text text-anchor=\"middle\" x=\"279\" y=\"-101.3\" font-family=\"Times,serif\" font-size=\"14.00\">9 (یک)</text>\n",
       "</g>\n",
       "<!-- 10&#45;&gt;9 -->\n",
       "<g id=\"edge8\" class=\"edge\">\n",
       "<title>10&#45;&gt;9</title>\n",
       "<path fill=\"none\" stroke=\"black\" d=\"M279,-174.21C279,-162.8 279,-147.43 279,-134.17\"/>\n",
       "<polygon fill=\"black\" stroke=\"black\" points=\"282.5,-134.27 279,-124.27 275.5,-134.27 282.5,-134.27\"/>\n",
       "<text text-anchor=\"middle\" x=\"312.5\" y=\"-144.8\" font-family=\"Times,serif\" font-size=\"14.00\">NPREMOD</text>\n",
       "</g>\n",
       "<!-- 12 -->\n",
       "<g id=\"node13\" class=\"node\">\n",
       "<title>12</title>\n",
       "<text text-anchor=\"middle\" x=\"369\" y=\"-101.3\" font-family=\"Times,serif\" font-size=\"14.00\">12 (قران)</text>\n",
       "</g>\n",
       "<!-- 10&#45;&gt;12 -->\n",
       "<g id=\"edge9\" class=\"edge\">\n",
       "<title>10&#45;&gt;12</title>\n",
       "<path fill=\"none\" stroke=\"black\" d=\"M307.4,-177.49C324.63,-169.1 343.88,-159.31 347,-156 352.92,-149.71 357.41,-141.57 360.74,-133.68\"/>\n",
       "<polygon fill=\"black\" stroke=\"black\" points=\"364.01,-134.95 364.18,-124.36 357.44,-132.53 364.01,-134.95\"/>\n",
       "<text text-anchor=\"middle\" x=\"373.5\" y=\"-144.8\" font-family=\"Times,serif\" font-size=\"14.00\">MOZ</text>\n",
       "</g>\n",
       "<!-- 11 -->\n",
       "<g id=\"node14\" class=\"node\">\n",
       "<title>11</title>\n",
       "<text text-anchor=\"middle\" x=\"369\" y=\"-14.3\" font-family=\"Times,serif\" font-size=\"14.00\">11 (یک)</text>\n",
       "</g>\n",
       "<!-- 12&#45;&gt;11 -->\n",
       "<g id=\"edge10\" class=\"edge\">\n",
       "<title>12&#45;&gt;11</title>\n",
       "<path fill=\"none\" stroke=\"black\" d=\"M369,-87.21C369,-75.8 369,-60.43 369,-47.17\"/>\n",
       "<polygon fill=\"black\" stroke=\"black\" points=\"372.5,-47.27 369,-37.27 365.5,-47.27 372.5,-47.27\"/>\n",
       "<text text-anchor=\"middle\" x=\"402.5\" y=\"-57.8\" font-family=\"Times,serif\" font-size=\"14.00\">NPREMOD</text>\n",
       "</g>\n",
       "</g>\n",
       "</svg>\n"
      ],
      "text/plain": [
       "<DependencyGraph with 15 nodes>"
      ]
     },
     "metadata": {},
     "output_type": "display_data"
    },
    {
     "name": "stdout",
     "output_type": "stream",
     "text": [
      "\u001b[38;5;247mic\u001b[39m\u001b[38;5;245m|\u001b[39m\u001b[38;5;245m \u001b[39m\u001b[38;5;247mextracted_show\u001b[39m\u001b[38;5;245m(\u001b[39m\u001b[38;5;247mprice_extracted\u001b[39m\u001b[38;5;245m)\u001b[39m\u001b[38;5;245m:\u001b[39m\u001b[38;5;245m \u001b[39m\u001b[38;5;245m[\u001b[39m\u001b[38;5;36m'\u001b[39m\u001b[38;5;36mمقدار:  یک میلیون تومان\u001b[39m\u001b[38;5;36m'\u001b[39m\u001b[38;5;245m,\u001b[39m\u001b[38;5;245m \u001b[39m\u001b[38;5;36m'\u001b[39m\u001b[38;5;36mمقدار:  یک قران\u001b[39m\u001b[38;5;36m'\u001b[39m\u001b[38;5;245m]\u001b[39m\n",
      "\u001b[38;5;247mic\u001b[39m\u001b[38;5;245m|\u001b[39m\u001b[38;5;245m \u001b[39m\u001b[38;5;247mextracted_show\u001b[39m\u001b[38;5;245m(\u001b[39m\u001b[38;5;247munit_extracted\u001b[39m\u001b[38;5;245m)\u001b[39m\u001b[38;5;245m:\u001b[39m\u001b[38;5;245m \u001b[39m\u001b[38;5;245m[\u001b[39m\u001b[38;5;36m'\u001b[39m\u001b[38;5;36mمقدار:  ده عدد\u001b[39m\u001b[38;5;36m'\u001b[39m\u001b[38;5;245m]\u001b[39m\n",
      "\u001b[38;5;247mic\u001b[39m\u001b[38;5;245m|\u001b[39m\u001b[38;5;245m \u001b[39m\u001b[38;5;247mend_index\u001b[39m\u001b[38;5;245m:\u001b[39m\u001b[38;5;245m \u001b[39m\u001b[38;5;36m10\u001b[39m\n",
      "\u001b[38;5;247mic\u001b[39m\u001b[38;5;245m|\u001b[39m\u001b[38;5;245m \u001b[39m\u001b[38;5;247mend_index\u001b[39m\u001b[38;5;245m:\u001b[39m\u001b[38;5;245m \u001b[39m\u001b[38;5;36m3\u001b[39m\n"
     ]
    },
    {
     "ename": "TypeError",
     "evalue": "sort() takes at most 2 arguments (3 given)",
     "output_type": "error",
     "traceback": [
      "\u001b[0;31m---------------------------------------------------------------------------\u001b[0m",
      "\u001b[0;31mTypeError\u001b[0m                                 Traceback (most recent call last)",
      "Cell \u001b[0;32mIn [9], line 51\u001b[0m\n\u001b[1;32m     48\u001b[0m ic(s_chunks)\n\u001b[1;32m     50\u001b[0m display(s_parsed)\n\u001b[0;32m---> 51\u001b[0m \u001b[43mall_extract\u001b[49m\u001b[43m(\u001b[49m\u001b[43ms_parsed\u001b[49m\u001b[43m)\u001b[49m\n\u001b[1;32m     52\u001b[0m \u001b[38;5;28mprint\u001b[39m()\n",
      "File \u001b[0;32m~/base/Lectures/NLP/Asgari/price_detector_fa/price_detector_fa/extractors.py:279\u001b[0m, in \u001b[0;36mall_extract\u001b[0;34m(dep_graph)\u001b[0m\n\u001b[1;32m    276\u001b[0m stop_nodes \u001b[38;5;241m+\u001b[39m\u001b[38;5;241m=\u001b[39m extracted_flatten(price_extracted)\n\u001b[1;32m    277\u001b[0m stop_nodes \u001b[38;5;241m+\u001b[39m\u001b[38;5;241m=\u001b[39m extracted_flatten(unit_extracted)\n\u001b[0;32m--> 279\u001b[0m product_name_extracted \u001b[38;5;241m=\u001b[39m \u001b[43mproduct_name_extract\u001b[49m\u001b[43m(\u001b[49m\n\u001b[1;32m    280\u001b[0m \u001b[43m    \u001b[49m\u001b[43mdep_graph\u001b[49m\u001b[43m,\u001b[49m\u001b[43m \u001b[49m\u001b[43mnode_lst_lst\u001b[49m\u001b[38;5;241;43m=\u001b[39;49m\u001b[43munit_extracted\u001b[49m\u001b[43m,\u001b[49m\u001b[43m \u001b[49m\u001b[43mstop_nodes\u001b[49m\u001b[38;5;241;43m=\u001b[39;49m\u001b[43mstop_nodes\u001b[49m\n\u001b[1;32m    281\u001b[0m \u001b[43m\u001b[49m\u001b[43m)\u001b[49m\n\u001b[1;32m    282\u001b[0m ic(\n\u001b[1;32m    283\u001b[0m     \u001b[38;5;66;03m# product_name_extracted,\u001b[39;00m\n\u001b[1;32m    284\u001b[0m     extracted_show(product_name_extracted)\n\u001b[1;32m    285\u001b[0m )\n\u001b[1;32m    287\u001b[0m \u001b[38;5;28;01mreturn\u001b[39;00m \u001b[38;5;28;01mNone\u001b[39;00m\n",
      "File \u001b[0;32m~/base/Lectures/NLP/Asgari/price_detector_fa/price_detector_fa/extractors.py:193\u001b[0m, in \u001b[0;36mproduct_name_extract\u001b[0;34m(dep_graph, stop_nodes, node_lst_lst, *args, **kwargs)\u001b[0m\n\u001b[1;32m    190\u001b[0m     end_index \u001b[38;5;241m=\u001b[39m \u001b[38;5;28mmax\u001b[39m(\u001b[38;5;28mmap\u001b[39m(\u001b[38;5;28;01mlambda\u001b[39;00m n: n[\u001b[38;5;124m\"\u001b[39m\u001b[38;5;124maddress\u001b[39m\u001b[38;5;124m\"\u001b[39m], sbj_group[\u001b[38;5;124m\"\u001b[39m\u001b[38;5;124mnodes\u001b[39m\u001b[38;5;124m\"\u001b[39m]))\n\u001b[1;32m    191\u001b[0m     sbj_group[\u001b[38;5;124m\"\u001b[39m\u001b[38;5;124mend_token_index\u001b[39m\u001b[38;5;124m\"\u001b[39m] \u001b[38;5;241m=\u001b[39m ic(end_index)\n\u001b[0;32m--> 193\u001b[0m \u001b[43mout\u001b[49m\u001b[38;5;241;43m.\u001b[39;49m\u001b[43msort\u001b[49m\u001b[43m(\u001b[49m\n\u001b[1;32m    194\u001b[0m \u001b[43m    \u001b[49m\u001b[43mout\u001b[49m\u001b[43m,\u001b[49m\n\u001b[1;32m    195\u001b[0m \u001b[43m    \u001b[49m\u001b[43mkey\u001b[49m\u001b[38;5;241;43m=\u001b[39;49m\u001b[38;5;28;43;01mlambda\u001b[39;49;00m\u001b[43m \u001b[49m\u001b[43msbj_group\u001b[49m\u001b[43m:\u001b[49m\u001b[43m \u001b[49m\u001b[43msbj_group\u001b[49m\u001b[43m[\u001b[49m\u001b[38;5;124;43m\"\u001b[39;49m\u001b[38;5;124;43mend_token_index\u001b[39;49m\u001b[38;5;124;43m\"\u001b[39;49m\u001b[43m]\u001b[49m\u001b[43m,\u001b[49m\n\u001b[1;32m    196\u001b[0m \u001b[43m    \u001b[49m\u001b[43mreverse\u001b[49m\u001b[38;5;241;43m=\u001b[39;49m\u001b[38;5;28;43;01mTrue\u001b[39;49;00m\u001b[43m,\u001b[49m\n\u001b[1;32m    197\u001b[0m \u001b[43m\u001b[49m\u001b[43m)\u001b[49m  \u001b[38;5;66;03m#: @inplace\u001b[39;00m\n\u001b[1;32m    199\u001b[0m ic(out)\n\u001b[1;32m    201\u001b[0m \u001b[38;5;28;01mreturn\u001b[39;00m out\n",
      "\u001b[0;31mTypeError\u001b[0m: sort() takes at most 2 arguments (3 given)"
     ]
    }
   ],
   "source": [
    "from price_detector_fa.samples import *\n",
    "\n",
    "for s in (\n",
    "    # sample_1,\n",
    "    # sample_2,\n",
    "    # sample_2_1,\n",
    "    # sample_2_2,\n",
    "    # sample_2_3,\n",
    "    # sample_2_4,\n",
    "    # sample_2_5,\n",
    "    # sample_2_6,\n",
    "    # sample_2_7,\n",
    "    # sample_2_8,\n",
    "    # sample_2_9,\n",
    "    # sample_2_9_2,\n",
    "    # sample_3,\n",
    "    # sample_4,\n",
    "    # sample_5,\n",
    "    # sample_6,\n",
    "    # sample_7,\n",
    "    # sample_8,\n",
    "    # sample_8_2,\n",
    "    # sample_8_3,\n",
    "    # sample_13,\n",
    "    sample_14,\n",
    "    # *samples_evil,\n",
    "    # *samples,\n",
    "):\n",
    "    print(s)\n",
    "    if True or s not in cache:\n",
    "        #: @todo6/Hoseini fix the return types\n",
    "        s_tokens = preprocess(s)\n",
    "\n",
    "        s_parsed = parser.parse(s_tokens)\n",
    "        s_tagged = tagger.tag(s_tokens)\n",
    "        s_chunks = tree2brackets(chunker.parse(s_tagged))\n",
    "        cache[s] = dict(\n",
    "            s_tokens=s_tokens,\n",
    "            s_parsed=s_parsed,\n",
    "            s_tagged=s_tagged,\n",
    "            s_chunks=s_chunks,\n",
    "        )\n",
    "    s_cached = cache[s]\n",
    "    s_tokens = s_cached[\"s_tokens\"]\n",
    "    s_parsed = s_cached[\"s_parsed\"]\n",
    "    s_tagged = s_cached[\"s_tagged\"]\n",
    "    s_chunks = s_cached[\"s_chunks\"]\n",
    "    ic(s_chunks)\n",
    "\n",
    "    display(s_parsed)\n",
    "    all_extract(s_parsed)\n",
    "    print()"
   ]
  }
 ],
 "metadata": {
  "kernelspec": {
   "display_name": "Python 3 (ipykernel)",
   "language": "python",
   "name": "python3"
  },
  "language_info": {
   "codemirror_mode": {
    "name": "ipython",
    "version": 3
   },
   "file_extension": ".py",
   "mimetype": "text/x-python",
   "name": "python",
   "nbconvert_exporter": "python",
   "pygments_lexer": "ipython3",
   "version": "3.10.6"
  }
 },
 "nbformat": 4,
 "nbformat_minor": 5
}
