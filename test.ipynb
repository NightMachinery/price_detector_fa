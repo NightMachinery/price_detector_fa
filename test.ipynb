{
 "cells": [
  {
   "cell_type": "code",
   "execution_count": 33,
   "id": "f224667c-ccaa-4fbb-b5e6-b08d2c721505",
   "metadata": {},
   "outputs": [
    {
     "name": "stdout",
     "output_type": "stream",
     "text": [
      "The autoreload extension is already loaded. To reload it, use:\n",
      "  %reload_ext autoreload\n"
     ]
    }
   ],
   "source": [
    "%load_ext autoreload\n",
    "%autoreload 2"
   ]
  },
  {
   "cell_type": "markdown",
   "id": "9a036001-57c6-4f48-80ba-d5388fd27aad",
   "metadata": {},
   "source": [
    "## Contributers\n",
    "Feraidoon Mehri: 401205507\n",
    "\n",
    "Fahime Hosseini: 400210969\n",
    "\n",
    "Soroush Vafaie Tabar: 401208945"
   ]
  },
  {
   "cell_type": "markdown",
   "id": "f46b74c2-52de-493c-8fe2-d65dbdf5767c",
   "metadata": {
    "tags": []
   },
   "source": [
    "# Bootstrap"
   ]
  },
  {
   "cell_type": "code",
   "execution_count": 34,
   "id": "f96720ef-61e7-4ed6-b98b-cd321716b98b",
   "metadata": {},
   "outputs": [],
   "source": [
    "cache = dict()\n",
    "DISABLE_CACHE = True"
   ]
  },
  {
   "cell_type": "code",
   "execution_count": 35,
   "id": "82523bad-e361-458b-9950-4c45e6c19946",
   "metadata": {},
   "outputs": [],
   "source": [
    "from price_detector_fa.samples import *\n",
    "from price_detector_fa.utils import *\n",
    "from price_detector_fa.extractors import *\n",
    "from price_detector_fa.preprocessing import *\n",
    "from price_detector_fa.hardcoded import *"
   ]
  },
  {
   "cell_type": "markdown",
   "id": "38023943-0f9e-4e69-811c-da5248b6763a",
   "metadata": {},
   "source": [
    "# Tests"
   ]
  },
  {
   "cell_type": "markdown",
   "id": "0b84f42f-c3c4-488e-aa2f-0d9acb688034",
   "metadata": {},
   "source": [
    "## `preprocess`"
   ]
  },
  {
   "cell_type": "code",
   "execution_count": 36,
   "id": "95b8cde5-3992-457e-a3c7-7f65900cbf7e",
   "metadata": {},
   "outputs": [
    {
     "name": "stdout",
     "output_type": "stream",
     "text": [
      "ولی ما هرکیلو ماکارونی را فقط ۰.۳۵ $ فروخته ایم، در حالی که قیمت جهانی هرکیلو گندم بیش ۰.۴$ است.\n",
      "ولی ما هر کیلو ماکارونی را فقط ۰.۳۵ $ فروخته ایم، در حالی که قیمت هر کیلو گندم بیش ۰.۴$ است.\n"
     ]
    },
    {
     "data": {
      "text/plain": [
       "(['ولی',\n",
       "  'ما',\n",
       "  'یک',\n",
       "  'کیلو',\n",
       "  'ماکارونی',\n",
       "  'را',\n",
       "  'فقط',\n",
       "  '۰.۳۵',\n",
       "  'دلار',\n",
       "  'فروخته',\n",
       "  'ایم',\n",
       "  '،',\n",
       "  'در',\n",
       "  'حالی',\n",
       "  'که',\n",
       "  'قیمت',\n",
       "  'یک',\n",
       "  'کیلو',\n",
       "  'گندم',\n",
       "  '۰.۴',\n",
       "  'دلار',\n",
       "  'است',\n",
       "  '.'],\n",
       " [(0, 3),\n",
       "  (4, 6),\n",
       "  (7, 9),\n",
       "  (9, 13),\n",
       "  (14, 22),\n",
       "  (23, 25),\n",
       "  (26, 29),\n",
       "  (30, 34),\n",
       "  (35, 36),\n",
       "  (37, 43),\n",
       "  (44, 47),\n",
       "  (47, 48),\n",
       "  (49, 51),\n",
       "  (52, 56),\n",
       "  (57, 59),\n",
       "  (60, 64),\n",
       "  (71, 73),\n",
       "  (73, 77),\n",
       "  (78, 82),\n",
       "  (87, 90),\n",
       "  (90, 91),\n",
       "  (92, 95),\n",
       "  (95, 96)])"
      ]
     },
     "execution_count": 36,
     "metadata": {},
     "output_type": "execute_result"
    }
   ],
   "source": [
    "preprocess(sample_5, disp=True)"
   ]
  },
  {
   "cell_type": "markdown",
   "id": "52723238-0de2-4ee4-8ed8-be03205a450f",
   "metadata": {},
   "source": [
    "## subject_extract"
   ]
  },
  {
   "cell_type": "code",
   "execution_count": 37,
   "id": "2db379a7-f6aa-426c-b71a-bfe127d52699",
   "metadata": {},
   "outputs": [
    {
     "name": "stdout",
     "output_type": "stream",
     "text": [
      "هندوانه هرکیلو سه هزار تومان به فروش میرسد.\n",
      "هندوانه هر کیلو سه هزار تومان به فروش میرسد.\n"
     ]
    },
    {
     "data": {
      "text/plain": [
       "[{'nodes': [{'address': 1,\n",
       "    'word': 'هندوانه',\n",
       "    'lemma': 'هندوانه',\n",
       "    'ctag': 'N',\n",
       "    'tag': 'N',\n",
       "    'feats': '_',\n",
       "    'head': 9,\n",
       "    'deps': defaultdict(list, {'MOZ': [3]}),\n",
       "    'rel': 'SBJ'},\n",
       "   {'address': 2,\n",
       "    'word': 'یک',\n",
       "    'lemma': 'یک',\n",
       "    'ctag': 'NUM',\n",
       "    'tag': 'NUM',\n",
       "    'feats': '_',\n",
       "    'head': 3,\n",
       "    'deps': defaultdict(list, {}),\n",
       "    'rel': 'NPREMOD'},\n",
       "   {'address': 3,\n",
       "    'word': 'کیلو',\n",
       "    'lemma': 'کیلو',\n",
       "    'ctag': 'N',\n",
       "    'tag': 'N',\n",
       "    'feats': '_',\n",
       "    'head': 1,\n",
       "    'deps': defaultdict(list, {'NPREMOD': [2]}),\n",
       "    'rel': 'MOZ'}]}]"
      ]
     },
     "execution_count": 37,
     "metadata": {},
     "output_type": "execute_result"
    }
   ],
   "source": [
    "subject_extract(parser.parse(preprocess(sample_13, disp=True)[0]))"
   ]
  },
  {
   "cell_type": "markdown",
   "id": "93b8cae0-fb29-4b37-95cb-a0df15fb1fd6",
   "metadata": {},
   "source": [
    "<div dir=\"rtl\">\n",
    "    <h2>توضیح راه‌حل</h2>\n",
    "    برای یافتن خصوصیات گفته شده در صورت مسئله، مراحل زیر را می‌پیماییم.\n",
    "    <ul>\n",
    "        <li>تجزیه‌ی جمله به جملات</li>\n",
    "        <li>تفکیک هر جمله به کلمات، نرمال‌سازی متناسب با مسئله و استخراج بازه‌ی هر کلمه: در این قسمت برخی از کلمات مانند هر و &#36; با کلمات استاندارد جایگزین شده اند  . و تعداد از کلمات زائد حذف شده اند. بازه‌ی هر کلمه بازه‌ی کلمه‌ی معادل آن در جمله‌ی اولیه است.‎\n",
    "</li>\n",
    "        <li>یافتن تمامی قیمت‌ها در جمله‌ها (مثلا ۳ دلار) به کمک یافتن بچه‌های واحد‌های پولی در درخت پارس</li>\n",
    "        <li>یافتن واحد‌های شمارش در صورت وجود به صورت مشابه</li>\n",
    "        <li>یافتن نام کالا به کمک کلیدواژه‌هایی نظیر (بها، قیمت و ...) در صورت وجود و در غیر آن صورت به کمک جایگاه‌ واحد‌های شمارش</li>\n",
    "        <li>تشکیل یک لیست مرتبط از قیمت‌ها، واحد‌های شمارش و نام کالاهای پیدا شده</li>\n",
    "        <li>چسباندن نظیر به نظیر لیست‌های نام کالا، قیمت و واحد‌ها به صورت لیستی از matchingها</li>\n",
    "        <li>نرمالایز کردن هر matching با استخراج واحد‌های شمارش و عدد‌های موجود در نام کالا‌ها و قیمت‌ها و یافتن تناظر میان قیمت‌ها و واحد‌های‌ شمارش مختلف</li>\n",
    "    </ul>\n",
    "    توضیحات دقیقتر در مورد نحوه‌ی عملکرد هر یک از این مراحل به صورت کامنت در کد‌ها تعبیه شده است. برای مثال نحوه‌ی یافتن  matching به صورت یافتن یک الگوی regex تکرار شونده مدل شده است که این regex در تابع find_matchnigs به صورت کامنت امده است. \n",
    "\n",
    "</div>"
   ]
  },
  {
   "cell_type": "code",
   "execution_count": 38,
   "id": "992ecd0f-4ab1-45a5-8e5a-5c1505817259",
   "metadata": {},
   "outputs": [
    {
     "name": "stdout",
     "output_type": "stream",
     "text": [
      "در شرکت اسپارد، قیمت یک سرویس نظافت ۵ ساعته ۲۴ هزار تومان می‌باشد.\n",
      "در شرکت اسپارد، قیمت یک سرویس نظافت ۵ ساعته ۲۴ هزار تومان می‌باشد.\n",
      "در شرکت اسپارد، قیمت یک سرویس نظافت ۵ ساعته ۲۴ هزار تومان می‌باشد.\n",
      "['مقدار:  ۲۴ هزار تومان']\n",
      "['مقدار:  ۵ ساعته']\n",
      "['مقدار:  یک سرویس نظافت']\n",
      "\n",
      "{'product_name': 'مقدار:  یک سرویس نظافت', 'product_name_span': (21, 35), 'product_unit': ['مقدار:  ساعته'], 'product_amount': ['مقدار:  ۵'], 'price_unit': ['مقدار:  تومان'], 'price_amount': ['مقدار:  ۲۴ هزار']}\n",
      "icecream is bad!\n",
      "\n",
      "به گزارش خبرنگار اقتصادی خبرگزاری تسنیم، هماکنون در بازار آزاد، قیمت طلای ۱۸ عیار هر گرم یک میلیون و ۳۵۹ هزار تومان و قیمت سکه تمام بهار آزادی طرح جدید ۱۵ میلیون و ۱۰۰ هزار تومان است\n",
      "به گزارش خبرنگار اقتصادی خبرگزاری تسنیم، هماکنون در بازار آزاد، قیمت طلای ۱۸ عیار هر گرم یک میلیون و ۳۵۹ هزار تومان و قیمت سکه تمام بهار آزادی طرح جدید ۱۵ میلیون و ۱۰۰ هزار تومان است\n",
      "به گزارش خبرنگار اقتصادی خبرگزاری تسنیم، هماکنون در بازار آزاد، قیمت طلای ۱۸ عیار هر گرم یک میلیون و ۳۵۹ هزار تومان و قیمت سکه تمام بهار آزادی طرح جدید ۱۵ میلیون و ۱۰۰ هزار تومان است\n",
      "['مقدار:  یک میلیون و ۳۵۹ هزار تومان', 'مقدار:  ۱۵ میلیون و ۱۰۰ هزار تومان']\n",
      "['مقدار:  یک گرم']\n",
      "['مقدار:  طلای ۱۸ عیار', 'مقدار:  سکه تمام بهار آزادی طرح جدید']\n",
      "\n",
      "{'product_name': 'مقدار:  طلای ۱۸ عیار', 'product_name_span': (69, 81), 'product_unit': ['مقدار:  گرم'], 'product_amount': ['مقدار:  یک'], 'price_unit': ['مقدار:  تومان'], 'price_amount': ['مقدار:  یک میلیون و ۳۵۹ هزار']}\n",
      "{'product_name': 'مقدار:  سکه تمام بهار آزادی طرح جدید', 'product_name_span': (123, 151), 'product_unit': ['مقدار:  عدد'], 'product_amount': ['مقدار:  یک'], 'price_unit': ['مقدار:  تومان'], 'price_amount': ['مقدار:  ۱۵ میلیون و ۱۰۰ هزار']}\n",
      "icecream is bad!\n",
      "\n",
      "سه هندوانه صدهزار تومان میباشد.\n",
      "سه هندوانه صدهزار تومان میباشد.\n",
      "سه هندوانه صدهزار تومان میباشد.\n",
      "['مقدار:  صدهزار تومان']\n",
      "[]\n",
      "['مقدار:  سه هندوانه']\n",
      "\n",
      "{'product_name': 'مقدار:  هندوانه', 'product_name_span': (3, 10), 'product_unit': ['مقدار:  عدد'], 'product_amount': ['مقدار:  سه'], 'price_unit': ['مقدار:  تومان'], 'price_amount': ['مقدار:  صدهزار']}\n",
      "icecream is bad!\n",
      "\n",
      "قیمت هندوانه ارزان شد و قیمت طلا هزار تومان است\n",
      "قیمت هندوانه ارزان شد و قیمت طلا هزار تومان است\n",
      "قیمت هندوانه ارزان شد و قیمت طلا هزار تومان است\n",
      "['مقدار:  هزار تومان']\n",
      "[]\n",
      "['مقدار:  هندوانه ارزان شد و قیمت طلا', 'مقدار:  طلا']\n",
      "\n",
      "{'product_name': 'مقدار:  طلا', 'product_name_span': (29, 32), 'product_unit': ['مقدار:  عدد'], 'product_amount': ['مقدار:  یک'], 'price_unit': ['مقدار:  تومان'], 'price_amount': ['مقدار:  هزار']}\n",
      "icecream is bad!\n",
      "\n"
     ]
    }
   ],
   "source": [
    "from price_detector_fa.samples import *\n",
    "from price_detector_fa.extractors import *\n",
    "\n",
    "\n",
    "for sample in (\n",
    "    sample_1,\n",
    "    sample_2,\n",
    "    # sample_2_1,\n",
    "    # sample_2_2,\n",
    "    # sample_2_3,\n",
    "    # sample_2_4,\n",
    "    # sample_2_5,\n",
    "    # sample_2_6,\n",
    "    # sample_2_7,\n",
    "    # sample_2_8,\n",
    "    # sample_2_9,\n",
    "    # sample_2_9_2,\n",
    "    # sample_3,\n",
    "    # sample_4,\n",
    "    # sample_5,\n",
    "    # sample_6,\n",
    "    # sample_7,\n",
    "    sample_8,\n",
    "    # sample_8_2,\n",
    "    # sample_8_3,\n",
    "    # sample_13,\n",
    "    # sample_14,\n",
    "    sample_16_1,\n",
    "    # sample_16_2,\n",
    "    # sample_16_3,\n",
    "    # sample_16_4,\n",
    "    # *samples_evil,\n",
    "    # *samples,\n",
    "):\n",
    "    print(sample)\n",
    "    for s in sentence_tokenizer.tokenize(sample):\n",
    "        if DISABLE_CACHE or (True or s not in cache):\n",
    "            #: @todo6/Hoseini fix the return types\n",
    "            s_tokens, s_spans = preprocess(s, disp=True)\n",
    "\n",
    "            s_parsed = parser.parse(s_tokens)\n",
    "            s_spans = find_spans(s_parsed, s_spans)\n",
    "\n",
    "            s_tagged = tagger.tag(s_tokens)\n",
    "            s_chunks = tree2brackets(chunker.parse(s_tagged))\n",
    "            cache[s] = dict(\n",
    "                s_spans=s_spans,\n",
    "                s_tokens=s_tokens,\n",
    "                s_parsed=s_parsed,\n",
    "                s_tagged=s_tagged,\n",
    "                s_chunks=s_chunks,\n",
    "            )\n",
    "        s_cached = cache[s]\n",
    "        s_tokens = s_cached[\"s_tokens\"]\n",
    "        s_spans = s_cached[\"s_spans\"]\n",
    "        s_parsed = s_cached[\"s_parsed\"]\n",
    "        s_tagged = s_cached[\"s_tagged\"]\n",
    "        s_chunks = s_cached[\"s_chunks\"]\n",
    "        # print(s_chunks)\n",
    "\n",
    "        # display(s_parsed)\n",
    "        matchings = all_extract(s_parsed, disp=True)\n",
    "        print()\n",
    "        for matching in matchings:\n",
    "            print(matching_show(matching, s_spans))\n",
    "        # print(\"icecream is bad!\")\n",
    "        print()"
   ]
  },
  {
   "cell_type": "code",
   "execution_count": 39,
   "id": "342a7435-60b7-467c-b4ab-3d7d8a27404b",
   "metadata": {},
   "outputs": [],
   "source": [
    "def matching_extract(sample):\n",
    "    output = []\n",
    "    for s in sentence_tokenizer.tokenize(sample):\n",
    "        #: @todo6/Hoseini fix the return types\n",
    "        s_tokens, s_spans = preprocess(s)\n",
    "\n",
    "        s_parsed = parser.parse(s_tokens)\n",
    "        s_spans = find_spans(s_parsed, s_spans)\n",
    "\n",
    "        s_tagged = tagger.tag(s_tokens)\n",
    "        # s_chunks = tree2brackets(chunker.parse(s_tagged))\n",
    "        matchings = all_extract(s_parsed)\n",
    "        output = output + list(\n",
    "            matching_show(matching, s_spans) for matching in matchings\n",
    "        )\n",
    "    return output\n",
    "\n",
    "\n"
   ]
  },
  {
   "cell_type": "code",
   "execution_count": 40,
   "id": "123592c9-2a46-4525-ba81-dcaa6698bcd0",
   "metadata": {},
   "outputs": [
    {
     "name": "stdin",
     "output_type": "stream",
     "text": [
      " ماشین سه دلار بود\n"
     ]
    },
    {
     "data": {
      "text/plain": [
       "[{'product_name': 'مقدار:  ماشین',\n",
       "  'product_name_span': (0, 5),\n",
       "  'product_unit': ['مقدار:  عدد'],\n",
       "  'product_amount': ['مقدار:  یک'],\n",
       "  'price_unit': ['مقدار:  دلار'],\n",
       "  'price_amount': ['مقدار:  سه']}]"
      ]
     },
     "execution_count": 40,
     "metadata": {},
     "output_type": "execute_result"
    }
   ],
   "source": [
    "matching_extract(input())"
   ]
  },
  {
   "cell_type": "markdown",
   "id": "29b362fb-8514-4705-a6d3-0fab356b660e",
   "metadata": {
    "tags": []
   },
   "source": [
    "# TMP"
   ]
  },
  {
   "cell_type": "code",
   "execution_count": 41,
   "id": "dc848064-8bf8-4b91-bb1e-38b0d114f1ac",
   "metadata": {},
   "outputs": [
    {
     "data": {
      "text/plain": [
       "[{'product_name': 'مقدار:  شتر',\n",
       "  'product_name_span': (18, 21),\n",
       "  'product_unit': ['مقدار:  فروند'],\n",
       "  'product_amount': ['مقدار:  ده'],\n",
       "  'price_unit': ['مقدار:  قران'],\n",
       "  'price_amount': ['مقدار:  پنجاه']}]"
      ]
     },
     "execution_count": 41,
     "metadata": {},
     "output_type": "execute_result"
    }
   ],
   "source": [
    "a = \"عباس‌آقا ده فروند شتر را به بهای پنجاه قران خریداری نموده و و خوشال شدند\"\n",
    "matching_extract(a)"
   ]
  },
  {
   "cell_type": "code",
   "execution_count": 42,
   "id": "e12bdd05-3787-4c34-9c92-248b8d4acca3",
   "metadata": {},
   "outputs": [
    {
     "data": {
      "text/plain": [
       "'شتر'"
      ]
     },
     "execution_count": 42,
     "metadata": {},
     "output_type": "execute_result"
    }
   ],
   "source": [
    "a[18:21]"
   ]
  },
  {
   "cell_type": "code",
   "execution_count": 43,
   "id": "393970b9-c90e-4642-b26a-61b2f5afb036",
   "metadata": {},
   "outputs": [
    {
     "data": {
      "text/plain": [
       "[{'product_name': 'مقدار:  بادکنک خرید .',\n",
       "  'product_name_span': (30, 42),\n",
       "  'product_unit': ['مقدار:  عدد'],\n",
       "  'product_amount': ['مقدار:  یک'],\n",
       "  'price_unit': ['مقدار:  تومان'],\n",
       "  'price_amount': ['مقدار:  سه هزار']}]"
      ]
     },
     "execution_count": 43,
     "metadata": {},
     "output_type": "execute_result"
    }
   ],
   "source": [
    "a = \"با سه هزار تومان میشود یک عدد بادکنک خرید.\"\n",
    "matching_extract(a)"
   ]
  },
  {
   "cell_type": "code",
   "execution_count": 44,
   "id": "8673583d-2ebb-457f-ae47-9453a1958016",
   "metadata": {},
   "outputs": [
    {
     "data": {
      "text/plain": [
       "[{'product_name': 'مقدار:  بادکنک خرید و',\n",
       "  'product_name_span': (30, 43),\n",
       "  'product_unit': ['مقدار:  عدد', 'مقدار:  عدد'],\n",
       "  'product_amount': ['مقدار:  یک', 'مقدار:  یک'],\n",
       "  'price_unit': ['مقدار:  تومان', 'مقدار:  تومان'],\n",
       "  'price_amount': ['مقدار:  سه هزار', 'مقدار:  دو هزار']}]"
      ]
     },
     "execution_count": 44,
     "metadata": {},
     "output_type": "execute_result"
    }
   ],
   "source": [
    "a = \"با سه هزار تومان میشود یک عدد بادکنک خرید و با دو هزار تومان یک عدد سکه طلا..\"\n",
    "matching_extract(a)"
   ]
  }
 ],
 "metadata": {
  "kernelspec": {
   "display_name": "Python 3 (ipykernel)",
   "language": "python",
   "name": "python3"
  },
  "language_info": {
   "codemirror_mode": {
    "name": "ipython",
    "version": 3
   },
   "file_extension": ".py",
   "mimetype": "text/x-python",
   "name": "python",
   "nbconvert_exporter": "python",
   "pygments_lexer": "ipython3",
   "version": "3.10.6"
  }
 },
 "nbformat": 4,
 "nbformat_minor": 5
}
