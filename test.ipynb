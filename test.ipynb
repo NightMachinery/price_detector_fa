{
 "cells": [
  {
   "cell_type": "code",
   "execution_count": 1,
   "id": "f224667c-ccaa-4fbb-b5e6-b08d2c721505",
   "metadata": {},
   "outputs": [],
   "source": [
    "%load_ext autoreload\n",
    "%autoreload 2"
   ]
  },
  {
   "cell_type": "markdown",
   "id": "f46b74c2-52de-493c-8fe2-d65dbdf5767c",
   "metadata": {},
   "source": [
    "# Bootstrap"
   ]
  },
  {
   "cell_type": "code",
   "execution_count": 2,
   "id": "f96720ef-61e7-4ed6-b98b-cd321716b98b",
   "metadata": {},
   "outputs": [],
   "source": [
    "cache = dict()"
   ]
  },
  {
   "cell_type": "code",
   "execution_count": 37,
   "id": "82523bad-e361-458b-9950-4c45e6c19946",
   "metadata": {},
   "outputs": [],
   "source": [
    "from price_detector_fa.samples import *\n",
    "from price_detector_fa.utils import *\n",
    "from price_detector_fa.extractors import *\n",
    "from price_detector_fa.preprocessing import *\n",
    "from price_detector_fa.hardcoded import *"
   ]
  },
  {
   "cell_type": "markdown",
   "id": "38023943-0f9e-4e69-811c-da5248b6763a",
   "metadata": {},
   "source": [
    "# Tests"
   ]
  },
  {
   "cell_type": "markdown",
   "id": "0b84f42f-c3c4-488e-aa2f-0d9acb688034",
   "metadata": {},
   "source": [
    "## `preprocess`"
   ]
  },
  {
   "cell_type": "code",
   "execution_count": 25,
   "id": "95b8cde5-3992-457e-a3c7-7f65900cbf7e",
   "metadata": {},
   "outputs": [
    {
     "name": "stdout",
     "output_type": "stream",
     "text": [
      "\u001b[38;5;247mic\u001b[39m\u001b[38;5;245m|\u001b[39m\u001b[38;5;245m \u001b[39m\u001b[38;5;247mtext\u001b[39m\u001b[38;5;245m:\u001b[39m\u001b[38;5;245m \u001b[39m\u001b[38;5;245m(\u001b[39m\u001b[38;5;36m'\u001b[39m\u001b[38;5;36mولی ما هرکیلو ماکارونی را فقط ۰.۳۵ $ فروخته ایم، در حالی که قیمت جهانی \u001b[39m\u001b[38;5;36m'\u001b[39m\n",
      "\u001b[38;5;245m           \u001b[39m\u001b[38;5;36m'\u001b[39m\u001b[38;5;36mهرکیلو گندم بیش ۰.۴$ است.\u001b[39m\u001b[38;5;36m'\u001b[39m\u001b[38;5;245m)\u001b[39m\n"
     ]
    },
    {
     "data": {
      "text/plain": [
       "['ولی',\n",
       " 'ما',\n",
       " 'هرکیلو',\n",
       " 'ماکارونی',\n",
       " 'را',\n",
       " 'فقط',\n",
       " '۰.۳۵',\n",
       " 'دلار',\n",
       " 'فروخته_ایم',\n",
       " '،',\n",
       " 'در',\n",
       " 'حالی',\n",
       " 'که',\n",
       " 'قیمت',\n",
       " 'جهانی',\n",
       " 'هرکیلو',\n",
       " 'گندم',\n",
       " '۰.۴',\n",
       " 'دلار',\n",
       " 'است',\n",
       " '.']"
      ]
     },
     "execution_count": 25,
     "metadata": {},
     "output_type": "execute_result"
    }
   ],
   "source": [
    "preprocess(sample_5)"
   ]
  },
  {
   "cell_type": "markdown",
   "id": "52723238-0de2-4ee4-8ed8-be03205a450f",
   "metadata": {},
   "source": [
    "## subject_extract"
   ]
  },
  {
   "cell_type": "code",
   "execution_count": 45,
   "id": "2db379a7-f6aa-426c-b71a-bfe127d52699",
   "metadata": {},
   "outputs": [
    {
     "name": "stdout",
     "output_type": "stream",
     "text": [
      "\u001b[38;5;247mic\u001b[39m\u001b[38;5;245m|\u001b[39m\u001b[38;5;245m \u001b[39m\u001b[38;5;247mtext\u001b[39m\u001b[38;5;245m:\u001b[39m\u001b[38;5;245m \u001b[39m\u001b[38;5;36m'\u001b[39m\u001b[38;5;36mهندوانه هر کیلو سه هزار تومان به فروش میرسد.\u001b[39m\u001b[38;5;36m'\u001b[39m\n"
     ]
    },
    {
     "data": {
      "text/plain": [
       "[{'nodes': [{'address': 1,\n",
       "    'word': 'هندوانه',\n",
       "    'lemma': 'هندوانه',\n",
       "    'ctag': 'N',\n",
       "    'tag': 'N',\n",
       "    'feats': '_',\n",
       "    'head': 9,\n",
       "    'deps': defaultdict(list, {'MOZ': [3]}),\n",
       "    'rel': 'SBJ'},\n",
       "   {'address': 2,\n",
       "    'word': 'یک',\n",
       "    'lemma': 'یک',\n",
       "    'ctag': 'NUM',\n",
       "    'tag': 'NUM',\n",
       "    'feats': '_',\n",
       "    'head': 3,\n",
       "    'deps': defaultdict(list, {}),\n",
       "    'rel': 'NPREMOD'},\n",
       "   {'address': 3,\n",
       "    'word': 'کیلو',\n",
       "    'lemma': 'کیلو',\n",
       "    'ctag': 'N',\n",
       "    'tag': 'N',\n",
       "    'feats': '_',\n",
       "    'head': 1,\n",
       "    'deps': defaultdict(list, {'NPREMOD': [2]}),\n",
       "    'rel': 'MOZ'}]}]"
      ]
     },
     "execution_count": 45,
     "metadata": {},
     "output_type": "execute_result"
    }
   ],
   "source": [
    "subject_extract(parser.parse(preprocess(sample_13)))"
   ]
  },
  {
   "cell_type": "markdown",
   "id": "93b8cae0-fb29-4b37-95cb-a0df15fb1fd6",
   "metadata": {},
   "source": [
    "## All Together"
   ]
  },
  {
   "cell_type": "code",
   "execution_count": 44,
   "id": "992ecd0f-4ab1-45a5-8e5a-5c1505817259",
   "metadata": {},
   "outputs": [
    {
     "name": "stdout",
     "output_type": "stream",
     "text": [
      "هندوانه هرکیلو سه هزار تومان به فروش میرسد.\n",
      "\u001b[38;5;247mic\u001b[39m\u001b[38;5;245m|\u001b[39m\u001b[38;5;245m \u001b[39m\u001b[38;5;247mtext\u001b[39m\u001b[38;5;245m:\u001b[39m\u001b[38;5;245m \u001b[39m\u001b[38;5;36m'\u001b[39m\u001b[38;5;36mهندوانه هر کیلو سه هزار تومان به فروش میرسد.\u001b[39m\u001b[38;5;36m'\u001b[39m\n",
      "\u001b[38;5;247mic\u001b[39m\u001b[38;5;245m|\u001b[39m\u001b[38;5;245m \u001b[39m\u001b[38;5;247ms_chunks\u001b[39m\u001b[38;5;245m:\u001b[39m\u001b[38;5;245m \u001b[39m\u001b[38;5;36m'\u001b[39m\u001b[38;5;36m[هندوانه NP] [یک کیلو NP] [سه هزار تومان NP] [به PP] [فروش NP] [میرسد VP] .\u001b[39m\u001b[38;5;36m'\u001b[39m\n"
     ]
    },
    {
     "data": {
      "image/svg+xml": [
       "<?xml version=\"1.0\" encoding=\"UTF-8\" standalone=\"no\"?>\n",
       "<!DOCTYPE svg PUBLIC \"-//W3C//DTD SVG 1.1//EN\"\n",
       " \"http://www.w3.org/Graphics/SVG/1.1/DTD/svg11.dtd\">\n",
       "<!-- Generated by graphviz version 7.0.2 (20221119.0110)\n",
       " -->\n",
       "<!-- Title: G Pages: 1 -->\n",
       "<svg width=\"300pt\" height=\"392pt\"\n",
       " viewBox=\"0.00 0.00 300.00 392.00\" xmlns=\"http://www.w3.org/2000/svg\" xmlns:xlink=\"http://www.w3.org/1999/xlink\">\n",
       "<g id=\"graph0\" class=\"graph\" transform=\"scale(1 1) rotate(0) translate(4 388)\">\n",
       "<title>G</title>\n",
       "<polygon fill=\"white\" stroke=\"none\" points=\"-4,4 -4,-388 296,-388 296,4 -4,4\"/>\n",
       "<!-- 0 -->\n",
       "<g id=\"node1\" class=\"node\">\n",
       "<title>0</title>\n",
       "<text text-anchor=\"middle\" x=\"162\" y=\"-362.3\" font-family=\"Times,serif\" font-size=\"14.00\">0 (None)</text>\n",
       "</g>\n",
       "<!-- 9 -->\n",
       "<g id=\"node2\" class=\"node\">\n",
       "<title>9</title>\n",
       "<text text-anchor=\"middle\" x=\"162\" y=\"-275.3\" font-family=\"Times,serif\" font-size=\"14.00\">9 (میرسد)</text>\n",
       "</g>\n",
       "<!-- 0&#45;&gt;9 -->\n",
       "<g id=\"edge1\" class=\"edge\">\n",
       "<title>0&#45;&gt;9</title>\n",
       "<path fill=\"none\" stroke=\"black\" d=\"M162,-348.21C162,-336.8 162,-321.43 162,-308.17\"/>\n",
       "<polygon fill=\"black\" stroke=\"black\" points=\"165.5,-308.27 162,-298.27 158.5,-308.27 165.5,-308.27\"/>\n",
       "<text text-anchor=\"middle\" x=\"180.5\" y=\"-318.8\" font-family=\"Times,serif\" font-size=\"14.00\">ROOT</text>\n",
       "</g>\n",
       "<!-- 1 -->\n",
       "<g id=\"node3\" class=\"node\">\n",
       "<title>1</title>\n",
       "<text text-anchor=\"middle\" x=\"34\" y=\"-188.3\" font-family=\"Times,serif\" font-size=\"14.00\">1 (هندوانه)</text>\n",
       "</g>\n",
       "<!-- 9&#45;&gt;1 -->\n",
       "<g id=\"edge7\" class=\"edge\">\n",
       "<title>9&#45;&gt;1</title>\n",
       "<path fill=\"none\" stroke=\"black\" d=\"M136.4,-261C117.05,-248.15 90.25,-230.35 68.92,-216.19\"/>\n",
       "<polygon fill=\"black\" stroke=\"black\" points=\"71.08,-213.42 60.81,-210.8 67.21,-219.25 71.08,-213.42\"/>\n",
       "<text text-anchor=\"middle\" x=\"117\" y=\"-231.8\" font-family=\"Times,serif\" font-size=\"14.00\">SBJ</text>\n",
       "</g>\n",
       "<!-- 6 -->\n",
       "<g id=\"node8\" class=\"node\">\n",
       "<title>6</title>\n",
       "<text text-anchor=\"middle\" x=\"117\" y=\"-188.3\" font-family=\"Times,serif\" font-size=\"14.00\">6 (تومان)</text>\n",
       "</g>\n",
       "<!-- 9&#45;&gt;6 -->\n",
       "<g id=\"edge8\" class=\"edge\">\n",
       "<title>9&#45;&gt;6</title>\n",
       "<path fill=\"none\" stroke=\"black\" d=\"M153.11,-261.21C146.82,-249.33 138.27,-233.17 131.06,-219.56\"/>\n",
       "<polygon fill=\"black\" stroke=\"black\" points=\"134.35,-218.3 126.58,-211.1 128.17,-221.57 134.35,-218.3\"/>\n",
       "<text text-anchor=\"middle\" x=\"155.5\" y=\"-231.8\" font-family=\"Times,serif\" font-size=\"14.00\">OBJ</text>\n",
       "</g>\n",
       "<!-- 7 -->\n",
       "<g id=\"node9\" class=\"node\">\n",
       "<title>7</title>\n",
       "<text text-anchor=\"middle\" x=\"193\" y=\"-188.3\" font-family=\"Times,serif\" font-size=\"14.00\">7 (به)</text>\n",
       "</g>\n",
       "<!-- 9&#45;&gt;7 -->\n",
       "<g id=\"edge9\" class=\"edge\">\n",
       "<title>9&#45;&gt;7</title>\n",
       "<path fill=\"none\" stroke=\"black\" d=\"M168.12,-261.21C172.37,-249.56 178.12,-233.8 183.02,-220.36\"/>\n",
       "<polygon fill=\"black\" stroke=\"black\" points=\"186.23,-221.77 186.37,-211.18 179.66,-219.38 186.23,-221.77\"/>\n",
       "<text text-anchor=\"middle\" x=\"192.5\" y=\"-231.8\" font-family=\"Times,serif\" font-size=\"14.00\">VPP</text>\n",
       "</g>\n",
       "<!-- 10 -->\n",
       "<g id=\"node11\" class=\"node\">\n",
       "<title>10</title>\n",
       "<text text-anchor=\"middle\" x=\"265\" y=\"-188.3\" font-family=\"Times,serif\" font-size=\"14.00\">10 (.)</text>\n",
       "</g>\n",
       "<!-- 9&#45;&gt;10 -->\n",
       "<g id=\"edge10\" class=\"edge\">\n",
       "<title>9&#45;&gt;10</title>\n",
       "<path fill=\"none\" stroke=\"black\" d=\"M185.26,-261.31C192.93,-255.64 201.43,-249.18 209,-243 218.95,-234.88 229.53,-225.61 238.79,-217.27\"/>\n",
       "<polygon fill=\"black\" stroke=\"black\" points=\"241.03,-219.96 246.08,-210.65 236.32,-214.78 241.03,-219.96\"/>\n",
       "<text text-anchor=\"middle\" x=\"245.5\" y=\"-231.8\" font-family=\"Times,serif\" font-size=\"14.00\">PUNC</text>\n",
       "</g>\n",
       "<!-- 3 -->\n",
       "<g id=\"node4\" class=\"node\">\n",
       "<title>3</title>\n",
       "<text text-anchor=\"middle\" x=\"31\" y=\"-101.3\" font-family=\"Times,serif\" font-size=\"14.00\">3 (کیلو)</text>\n",
       "</g>\n",
       "<!-- 1&#45;&gt;3 -->\n",
       "<g id=\"edge2\" class=\"edge\">\n",
       "<title>1&#45;&gt;3</title>\n",
       "<path fill=\"none\" stroke=\"black\" d=\"M33.41,-174.21C33,-162.8 32.46,-147.43 31.99,-134.17\"/>\n",
       "<polygon fill=\"black\" stroke=\"black\" points=\"35.5,-134.14 31.64,-124.27 28.5,-134.39 35.5,-134.14\"/>\n",
       "<text text-anchor=\"middle\" x=\"48.5\" y=\"-144.8\" font-family=\"Times,serif\" font-size=\"14.00\">MOZ</text>\n",
       "</g>\n",
       "<!-- 2 -->\n",
       "<g id=\"node5\" class=\"node\">\n",
       "<title>2</title>\n",
       "<text text-anchor=\"middle\" x=\"28\" y=\"-14.3\" font-family=\"Times,serif\" font-size=\"14.00\">2 (یک)</text>\n",
       "</g>\n",
       "<!-- 3&#45;&gt;2 -->\n",
       "<g id=\"edge3\" class=\"edge\">\n",
       "<title>3&#45;&gt;2</title>\n",
       "<path fill=\"none\" stroke=\"black\" d=\"M30.41,-87.21C30,-75.8 29.46,-60.43 28.99,-47.17\"/>\n",
       "<polygon fill=\"black\" stroke=\"black\" points=\"32.5,-47.14 28.64,-37.27 25.5,-47.39 32.5,-47.14\"/>\n",
       "<text text-anchor=\"middle\" x=\"63.5\" y=\"-57.8\" font-family=\"Times,serif\" font-size=\"14.00\">NPREMOD</text>\n",
       "</g>\n",
       "<!-- 4 -->\n",
       "<g id=\"node6\" class=\"node\">\n",
       "<title>4</title>\n",
       "<text text-anchor=\"middle\" x=\"118\" y=\"-14.3\" font-family=\"Times,serif\" font-size=\"14.00\">4 (سه)</text>\n",
       "</g>\n",
       "<!-- 5 -->\n",
       "<g id=\"node7\" class=\"node\">\n",
       "<title>5</title>\n",
       "<text text-anchor=\"middle\" x=\"118\" y=\"-101.3\" font-family=\"Times,serif\" font-size=\"14.00\">5 (هزار)</text>\n",
       "</g>\n",
       "<!-- 5&#45;&gt;4 -->\n",
       "<g id=\"edge4\" class=\"edge\">\n",
       "<title>5&#45;&gt;4</title>\n",
       "<path fill=\"none\" stroke=\"black\" d=\"M118,-87.21C118,-75.8 118,-60.43 118,-47.17\"/>\n",
       "<polygon fill=\"black\" stroke=\"black\" points=\"121.5,-47.27 118,-37.27 114.5,-47.27 121.5,-47.27\"/>\n",
       "<text text-anchor=\"middle\" x=\"151.5\" y=\"-57.8\" font-family=\"Times,serif\" font-size=\"14.00\">NPREMOD</text>\n",
       "</g>\n",
       "<!-- 6&#45;&gt;5 -->\n",
       "<g id=\"edge5\" class=\"edge\">\n",
       "<title>6&#45;&gt;5</title>\n",
       "<path fill=\"none\" stroke=\"black\" d=\"M117.2,-174.21C117.33,-162.8 117.51,-147.43 117.67,-134.17\"/>\n",
       "<polygon fill=\"black\" stroke=\"black\" points=\"121.17,-134.31 117.79,-124.27 114.17,-134.23 121.17,-134.31\"/>\n",
       "<text text-anchor=\"middle\" x=\"151.5\" y=\"-144.8\" font-family=\"Times,serif\" font-size=\"14.00\">NPREMOD</text>\n",
       "</g>\n",
       "<!-- 8 -->\n",
       "<g id=\"node10\" class=\"node\">\n",
       "<title>8</title>\n",
       "<text text-anchor=\"middle\" x=\"207\" y=\"-101.3\" font-family=\"Times,serif\" font-size=\"14.00\">8 (فروش)</text>\n",
       "</g>\n",
       "<!-- 7&#45;&gt;8 -->\n",
       "<g id=\"edge6\" class=\"edge\">\n",
       "<title>7&#45;&gt;8</title>\n",
       "<path fill=\"none\" stroke=\"black\" d=\"M195.77,-174.21C197.66,-162.68 200.23,-147.12 202.43,-133.76\"/>\n",
       "<polygon fill=\"black\" stroke=\"black\" points=\"205.82,-134.69 203.99,-124.25 198.92,-133.55 205.82,-134.69\"/>\n",
       "<text text-anchor=\"middle\" x=\"226.5\" y=\"-144.8\" font-family=\"Times,serif\" font-size=\"14.00\">POSDEP</text>\n",
       "</g>\n",
       "</g>\n",
       "</svg>\n"
      ],
      "text/plain": [
       "<DependencyGraph with 11 nodes>"
      ]
     },
     "metadata": {},
     "output_type": "display_data"
    },
    {
     "name": "stdout",
     "output_type": "stream",
     "text": [
      "\u001b[38;5;247mic\u001b[39m\u001b[38;5;245m|\u001b[39m\u001b[38;5;245m \u001b[39m\u001b[38;5;247mextracted_show\u001b[39m\u001b[38;5;245m(\u001b[39m\u001b[38;5;247mprice_extracted\u001b[39m\u001b[38;5;245m)\u001b[39m\u001b[38;5;245m:\u001b[39m\u001b[38;5;245m \u001b[39m\u001b[38;5;245m[\u001b[39m\u001b[38;5;36m'\u001b[39m\u001b[38;5;36mمقدار:  سه هزار تومان\u001b[39m\u001b[38;5;36m'\u001b[39m\u001b[38;5;245m]\u001b[39m\n",
      "\u001b[38;5;247mic\u001b[39m\u001b[38;5;245m|\u001b[39m\u001b[38;5;245m \u001b[39m\u001b[38;5;247mextracted_show\u001b[39m\u001b[38;5;245m(\u001b[39m\u001b[38;5;247munit_extracted\u001b[39m\u001b[38;5;245m)\u001b[39m\u001b[38;5;245m:\u001b[39m\u001b[38;5;245m \u001b[39m\u001b[38;5;245m[\u001b[39m\u001b[38;5;36m'\u001b[39m\u001b[38;5;36mمقدار:  یک کیلو\u001b[39m\u001b[38;5;36m'\u001b[39m\u001b[38;5;245m]\u001b[39m\n",
      "\u001b[38;5;247mic\u001b[39m\u001b[38;5;245m|\u001b[39m\u001b[38;5;245m \u001b[39m\u001b[38;5;247mproduct_name_extracted\u001b[39m\u001b[38;5;245m:\u001b[39m\u001b[38;5;245m \u001b[39m\u001b[38;5;245m[\u001b[39m\u001b[38;5;245m{\u001b[39m\u001b[38;5;36m'\u001b[39m\u001b[38;5;36mnodes\u001b[39m\u001b[38;5;36m'\u001b[39m\u001b[38;5;245m:\u001b[39m\u001b[38;5;245m \u001b[39m\u001b[38;5;245m[\u001b[39m\u001b[38;5;245m{\u001b[39m\u001b[38;5;36m'\u001b[39m\u001b[38;5;36maddress\u001b[39m\u001b[38;5;36m'\u001b[39m\u001b[38;5;245m:\u001b[39m\u001b[38;5;245m \u001b[39m\u001b[38;5;36m1\u001b[39m\u001b[38;5;245m,\u001b[39m\n",
      "\u001b[38;5;245m                                         \u001b[39m\u001b[38;5;36m'\u001b[39m\u001b[38;5;36mctag\u001b[39m\u001b[38;5;36m'\u001b[39m\u001b[38;5;245m:\u001b[39m\u001b[38;5;245m \u001b[39m\u001b[38;5;36m'\u001b[39m\u001b[38;5;36mN\u001b[39m\u001b[38;5;36m'\u001b[39m\u001b[38;5;245m,\u001b[39m\n",
      "\u001b[38;5;245m                                         \u001b[39m\u001b[38;5;36m'\u001b[39m\u001b[38;5;36mdeps\u001b[39m\u001b[38;5;36m'\u001b[39m\u001b[38;5;245m:\u001b[39m\u001b[38;5;245m \u001b[39m\u001b[38;5;247mdefaultdict\u001b[39m\u001b[38;5;245m(\u001b[39m\u001b[38;5;245m<\u001b[39m\u001b[38;5;100mclass\u001b[39m\u001b[38;5;245m \u001b[39m\u001b[38;5;166m'\u001b[39m\u001b[38;5;32mlist\u001b[39m\u001b[38;5;36m'\u001b[39m\u001b[38;5;36m>, \u001b[39m\u001b[38;5;36m{\u001b[39m\u001b[38;5;36m'\u001b[39m\u001b[38;5;247mMOZ\u001b[39m\u001b[38;5;36m'\u001b[39m\u001b[38;5;36m: [3]}),\u001b[39m\n",
      "\u001b[38;5;245m                                         \u001b[39m\u001b[38;5;36m'\u001b[39m\u001b[38;5;36mfeats\u001b[39m\u001b[38;5;36m'\u001b[39m\u001b[38;5;245m:\u001b[39m\u001b[38;5;245m \u001b[39m\u001b[38;5;36m'\u001b[39m\u001b[38;5;36m_\u001b[39m\u001b[38;5;36m'\u001b[39m\u001b[38;5;245m,\u001b[39m\n",
      "\u001b[38;5;245m                                         \u001b[39m\u001b[38;5;36m'\u001b[39m\u001b[38;5;36mhead\u001b[39m\u001b[38;5;36m'\u001b[39m\u001b[38;5;245m:\u001b[39m\u001b[38;5;245m \u001b[39m\u001b[38;5;36m9\u001b[39m\u001b[38;5;245m,\u001b[39m\n",
      "\u001b[38;5;245m                                         \u001b[39m\u001b[38;5;36m'\u001b[39m\u001b[38;5;36mlemma\u001b[39m\u001b[38;5;36m'\u001b[39m\u001b[38;5;245m:\u001b[39m\u001b[38;5;245m \u001b[39m\u001b[38;5;36m'\u001b[39m\u001b[38;5;36mهندوانه\u001b[39m\u001b[38;5;36m'\u001b[39m\u001b[38;5;245m,\u001b[39m\n",
      "\u001b[38;5;245m                                         \u001b[39m\u001b[38;5;36m'\u001b[39m\u001b[38;5;36mrel\u001b[39m\u001b[38;5;36m'\u001b[39m\u001b[38;5;245m:\u001b[39m\u001b[38;5;245m \u001b[39m\u001b[38;5;36m'\u001b[39m\u001b[38;5;36mSBJ\u001b[39m\u001b[38;5;36m'\u001b[39m\u001b[38;5;245m,\u001b[39m\n",
      "\u001b[38;5;245m                                         \u001b[39m\u001b[38;5;36m'\u001b[39m\u001b[38;5;36mtag\u001b[39m\u001b[38;5;36m'\u001b[39m\u001b[38;5;245m:\u001b[39m\u001b[38;5;245m \u001b[39m\u001b[38;5;36m'\u001b[39m\u001b[38;5;36mN\u001b[39m\u001b[38;5;36m'\u001b[39m\u001b[38;5;245m,\u001b[39m\n",
      "\u001b[38;5;245m                                         \u001b[39m\u001b[38;5;36m'\u001b[39m\u001b[38;5;36mword\u001b[39m\u001b[38;5;36m'\u001b[39m\u001b[38;5;245m:\u001b[39m\u001b[38;5;245m \u001b[39m\u001b[38;5;36m'\u001b[39m\u001b[38;5;36mهندوانه\u001b[39m\u001b[38;5;36m'\u001b[39m\u001b[38;5;245m}\u001b[39m\u001b[38;5;245m]\u001b[39m\u001b[38;5;245m}\u001b[39m\u001b[38;5;245m]\u001b[39m\n",
      "\u001b[38;5;245m    \u001b[39m\u001b[38;5;247mextracted_show\u001b[39m\u001b[38;5;245m(\u001b[39m\u001b[38;5;247mproduct_name_extracted\u001b[39m\u001b[38;5;245m)\u001b[39m\u001b[38;5;245m:\u001b[39m\u001b[38;5;245m \u001b[39m\u001b[38;5;245m[\u001b[39m\u001b[38;5;36m'\u001b[39m\u001b[38;5;36mمقدار:  هندوانه\u001b[39m\u001b[38;5;36m'\u001b[39m\u001b[38;5;245m]\u001b[39m\n",
      "\n"
     ]
    }
   ],
   "source": [
    "from price_detector_fa.samples import *\n",
    "\n",
    "for s in (\n",
    "    # sample_1,\n",
    "    # sample_2,\n",
    "    # sample_2_1,\n",
    "    # sample_2_2,\n",
    "    # sample_2_3,\n",
    "    # sample_2_4,\n",
    "    # sample_2_5,\n",
    "    # sample_2_6,\n",
    "    # sample_2_7,\n",
    "    # sample_2_8,\n",
    "    # sample_2_9,\n",
    "    # sample_2_9_2,\n",
    "    # sample_3,\n",
    "    # sample_4,\n",
    "    # sample_5_e,\n",
    "    # sample_6,\n",
    "    # sample_7,\n",
    "    # sample_8,\n",
    "    # sample_8_2,\n",
    "    # sample_8_3,\n",
    "    sample_13,\n",
    "    # *samples_evil,\n",
    "    # *samples,\n",
    "):\n",
    "    print(s)\n",
    "    if True or s not in cache:\n",
    "        #: @todo6/Hoseini fix the return types\n",
    "        s_tokens = preprocess(s)\n",
    "\n",
    "        s_parsed = parser.parse(s_tokens)\n",
    "        s_tagged = tagger.tag(s_tokens)\n",
    "        s_chunks = tree2brackets(chunker.parse(s_tagged))\n",
    "        cache[s] = dict(\n",
    "            s_tokens=s_tokens,\n",
    "            s_parsed=s_parsed,\n",
    "            s_tagged=s_tagged,\n",
    "            s_chunks=s_chunks,\n",
    "        )\n",
    "    s_cached = cache[s]\n",
    "    s_tokens = s_cached[\"s_tokens\"]\n",
    "    s_parsed = s_cached[\"s_parsed\"]\n",
    "    s_tagged = s_cached[\"s_tagged\"]\n",
    "    s_chunks = s_cached[\"s_chunks\"]\n",
    "    ic(s_chunks)\n",
    "\n",
    "    display(s_parsed)\n",
    "    all_extract(s_parsed)\n",
    "    print()"
   ]
  }
 ],
 "metadata": {
  "kernelspec": {
   "display_name": "Python 3 (ipykernel)",
   "language": "python",
   "name": "python3"
  },
  "language_info": {
   "codemirror_mode": {
    "name": "ipython",
    "version": 3
   },
   "file_extension": ".py",
   "mimetype": "text/x-python",
   "name": "python",
   "nbconvert_exporter": "python",
   "pygments_lexer": "ipython3",
   "version": "3.10.6"
  }
 },
 "nbformat": 4,
 "nbformat_minor": 5
}
